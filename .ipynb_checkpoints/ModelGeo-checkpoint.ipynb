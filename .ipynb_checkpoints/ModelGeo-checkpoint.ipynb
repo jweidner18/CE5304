{
 "cells": [
  {
   "cell_type": "markdown",
   "metadata": {},
   "source": [
    "# Model Geometry Construction using Python \n",
    "\n",
    "As part of CE 5304 - Advanced Design of Structural Systems - at The University of Texas at El Paso, I have encouraged my students to think about constructing structural model geometry programmatically. The purpose of this Notebook is to help support that initiative with an interactive example.  \n",
    "\n",
    "## Model Construction Considerations and Commonalities \n",
    "\n",
    "Every structural model is built on several key aspects, which are software agnostic. These include:\n",
    "+ Geometry\n",
    "+ Material Properties\n",
    "+ Section Properties\n",
    "+ Connectivity\n",
    "+ Boundary Conditions\n",
    "+ Loads\n",
    "\n",
    "While this list is not exhaustive, these core components are critical to every model build, and are generally the drivers behind modeling errors. Currently we are just looking at the top three. \n",
    "\n",
    "## Why build geometry programmatically?\n",
    "\n",
    "There are numerous reasons to automate as much of your model construction as possible. They include:\n",
    "+ It is faster\n",
    "+ You are far less likely to make errors\n",
    "+ It is much easier to make changes\n",
    "+ It creates a logical backbone to your model construction that can be leveraged throughout the process\n",
    "\n",
    "Before we start we need to initialize a few packages that we will use. "
   ]
  },
  {
   "cell_type": "code",
   "execution_count": 40,
   "metadata": {},
   "outputs": [],
   "source": [
    "# Add in imports as required\n",
    "import math\n",
    "import pprint\n",
    "pp = pprint.PrettyPrinter(indent=4)\n",
    "import csv\n",
    "import html\n",
    "\n",
    "from IPython.display import HTML\n",
    "\n",
    "import base64  \n",
    "import pandas as pd  \n"
   ]
  },
  {
   "cell_type": "markdown",
   "metadata": {},
   "source": [
    "## Our Example Building \n",
    "\n",
    "Consider the following building specifications:\n",
    "+ Three stories with a story height of 18 feet\n",
    "+ Outer dimensions of 120' by 120' \n",
    "+ Bay size of 30' by 30' \n",
    "+ Two intermediate beams running transverse in each bay, spaced at 10'"
   ]
  },
  {
   "cell_type": "markdown",
   "metadata": {},
   "source": [
    "### Explore the building dimensions\n",
    "\n",
    "We need to make sure we understand the layout and dimensions of the proposed building. Let's define the given values above. Note that we are ignoring many, many components of the building that may complicate this process. "
   ]
  },
  {
   "cell_type": "code",
   "execution_count": 29,
   "metadata": {},
   "outputs": [],
   "source": [
    "# Input Variables\n",
    "storyHeight=18 #feet\n",
    "numStories=4 #this equates to four levels of nodes but three floors - G/1/2/Roof\n",
    "bldgHeight=storyHeight*(numStories-1) #building height includes three 18' stories\n",
    "x_length=120 #feet\n",
    "y_length=120 #feet\n",
    "baySizeX=30 #feet\n",
    "baySizeY=30 #feet\n",
    "beamSpacingX=30 #feet\n",
    "beamSpacingY=10 #feet"
   ]
  },
  {
   "cell_type": "markdown",
   "metadata": {},
   "source": [
    "### Generating our geometry\n",
    "My goal with this next section is create a flexible geometry generation approach that can be used for other building structures. In other words, the process is repeatable and reliable, and it is not a one-off effort that would have to be repeated for different rectangular structures. \n",
    "\n",
    "#### Nodal Geometry\n",
    "The nodal geometry will be generated first. We will use three nested for loops. \n",
    "+ Variable i corresponds to the number of stories in the building. \n",
    "+ Variable j corresponds to the number of beams in the X-direction.\n",
    "+ Variable k corresponds to the number of beams in the Y-direction.\n",
    "\n",
    "Note that as of now, we are not making use of the \"baySize\" variables. They will be used for columns generation.\n",
    "\n",
    "Node numbers are assigned in groups of 1000, meaning that floor 0 will have numbers in the 1000-1999 range, and floor 1 will have numbers in the 2000-2999 range and so on. We are generating nodes on the base floor that will not have members associated with them. These can be ignored or manually removed later. Also note that we are numbering non-consecutively, meaning that if a software requires consecutive numbering, it may have to be redone later, or a different approach should be adopted. "
   ]
  },
  {
   "cell_type": "code",
   "execution_count": 30,
   "metadata": {},
   "outputs": [],
   "source": [
    "# Generate the nodes \n",
    "NODES={}\n",
    "for i in range(1,math.ceil(numStories+1)):\n",
    "    for j in range(1,math.ceil(x_length/beamSpacingX)+2):\n",
    "        for k in range(1,math.ceil(y_length/beamSpacingY)+2):\n",
    "            n=(1000*i)+(j-1)*(y_length/beamSpacingY+1)+k\n",
    "            x=(j-1)*beamSpacingX\n",
    "            y=(k-1)*beamSpacingY\n",
    "            z=(i-1)*storyHeight\n",
    "            NODES[n]=[x,y,z]\n",
    "        \n"
   ]
  },
  {
   "cell_type": "markdown",
   "metadata": {},
   "source": [
    "#### Reviewing results\n",
    "The following command will allow you to view your nodal results if interested. If not, leave it commented. "
   ]
  },
  {
   "cell_type": "code",
   "execution_count": 31,
   "metadata": {},
   "outputs": [],
   "source": [
    "# print the Nodes generated to take a look at them \n",
    "#pp.pprint(NODES)"
   ]
  },
  {
   "cell_type": "markdown",
   "metadata": {},
   "source": [
    "### Beam Element Designation\n",
    "The Following will generate the beam element input. It is approached in two sets of nested for loops. The first will generate the beams that move in the y-direction. The second will generate the beams in the x-direction.\n",
    "\n",
    "Important Note: This code assumes that beams within bays are in the x-direction. If this is not the case, then adjustments should be made. \n",
    "\n",
    "The format for the data being written into the BEAMS dictionary follows the requirements for SkyCiv and would have to be modified for different software. \n",
    "\n",
    "Again, non-consecutive element numbering is used. "
   ]
  },
  {
   "cell_type": "code",
   "execution_count": 32,
   "metadata": {},
   "outputs": [],
   "source": [
    "# generate the beam elements \n",
    "BEAMS={}\n",
    "for i in range(1,math.ceil(numStories)):\n",
    "    for j in range(1,math.ceil(x_length/beamSpacingX)+2): \n",
    "        for k in range(1,math.ceil(y_length/beamSpacingY)+1): \n",
    "            mID=(10000*(i+1))+(1000*j)+k\n",
    "            nodeA=(1000*(i+1))+k+(j-1)*(y_length/beamSpacingY+1)\n",
    "            nodeB=nodeA+1\n",
    "            typ=1\n",
    "            sectID=1\n",
    "            rot=0\n",
    "            fixA='FFFFFR'\n",
    "            fixB='FFFFFR'\n",
    "            offAX=0\n",
    "            offAY=0\n",
    "            offAZ=0\n",
    "            offBX=0\n",
    "            offBY=0\n",
    "            offBZ=0\n",
    "            cbl=0\n",
    "            tc=0\n",
    "            BEAMS[mID]=[nodeA,nodeB,typ,sectID,rot,fixA,fixB,offAX,offAY,offAZ,offBX,offBY,offBZ,cbl,tc]\n",
    "            \n",
    "for i in range(1,math.ceil(numStories)):\n",
    "    for j in range(1,math.ceil(x_length/beamSpacingX)+1): \n",
    "        for k in range(1,math.ceil(y_length/beamSpacingY)+2): \n",
    "            mID=(10000*(i+1))+(100*j)+k\n",
    "            nodeA=(1000*(i+1))+k+(j-1)*(y_length/beamSpacingY+1)\n",
    "            nodeB=nodeA+(y_length/beamSpacingY+1)\n",
    "            typ=1\n",
    "            sectID=1\n",
    "            rot=0\n",
    "            fixA='FFFFFR'\n",
    "            fixB='FFFFFR'\n",
    "            offAX=0\n",
    "            offAY=0\n",
    "            offAZ=0\n",
    "            offBX=0\n",
    "            offBY=0\n",
    "            offBZ=0\n",
    "            cbl=0\n",
    "            tc=0\n",
    "            BEAMS[mID]=[nodeA,nodeB,typ,sectID,rot,fixA,fixB,offAX,offAY,offAZ,offBX,offBY,offBZ,cbl,tc]           "
   ]
  },
  {
   "cell_type": "markdown",
   "metadata": {},
   "source": [
    "#### Reviewing results\n",
    "The following command will allow you to view your beam results if interested. If not, leave it commented. "
   ]
  },
  {
   "cell_type": "code",
   "execution_count": 33,
   "metadata": {},
   "outputs": [],
   "source": [
    "#pp.pprint(BEAMS)"
   ]
  },
  {
   "cell_type": "markdown",
   "metadata": {},
   "source": [
    "### Column Element Designation\n",
    "The Following will generate the column element input. It is approached in a set of nested for loops. It makes use of the baySize variables to ensure that columns are created only at the corner of bays. \n",
    "\n",
    "The format for the data being written into the columns dictionary follows the requirements for SkyCiv and would have to be modified for different software. \n",
    "\n",
    "Again, non-consecutive element numbering is used. "
   ]
  },
  {
   "cell_type": "code",
   "execution_count": 34,
   "metadata": {},
   "outputs": [],
   "source": [
    "# generate the column elements \n",
    "COLUMNS={}\n",
    "for i in range(1,math.ceil(numStories)):\n",
    "    for j in range(1,math.ceil(x_length/baySizeX)+2): \n",
    "        for k in range(1,math.ceil(y_length/baySizeY)+2): \n",
    "            mID=(100000*(i))+(1000*j)+k\n",
    "            nodeA=(1000*i)+(1+(k-1)*(baySizeY/beamSpacingY))+(j-1)*(y_length/beamSpacingY+1)\n",
    "            nodeB=nodeA+1000\n",
    "            typ=1\n",
    "            sectID=1\n",
    "            rot=0\n",
    "            fixA='FFFFFF'\n",
    "            fixB='FFFFFF'\n",
    "            offAX=0\n",
    "            offAY=0\n",
    "            offAZ=0\n",
    "            offBX=0\n",
    "            offBY=0\n",
    "            offBZ=0\n",
    "            cbl=0\n",
    "            tc=0\n",
    "            COLUMNS[mID]=[nodeA,nodeB,typ,sectID,rot,fixA,fixB,offAX,offAY,offAZ,offBX,offBY,offBZ,cbl,tc]"
   ]
  },
  {
   "cell_type": "markdown",
   "metadata": {},
   "source": [
    "#### Reviewing results\n",
    "The following command will allow you to view your column results if interested. If not, leave it commented. "
   ]
  },
  {
   "cell_type": "code",
   "execution_count": 35,
   "metadata": {},
   "outputs": [],
   "source": [
    "#pp.pprint(COLUMNS)"
   ]
  },
  {
   "cell_type": "code",
   "execution_count": 42,
   "metadata": {},
   "outputs": [],
   "source": [
    "# convert dictionary to data frame in pandas\n",
    "df_nodes=pd.DataFrame.from_dict(NODES, orient='index')"
   ]
  },
  {
   "cell_type": "code",
   "execution_count": 43,
   "metadata": {
    "code_folding": []
   },
   "outputs": [
    {
     "data": {
      "text/html": [
       "<a download=\"data.csv\" href=\"data:text/csv;base64,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\" target=\"_blank\">Download CSV file</a>"
      ],
      "text/plain": [
       "<IPython.core.display.HTML object>"
      ]
     },
     "execution_count": 43,
     "metadata": {},
     "output_type": "execute_result"
    }
   ],
   "source": [
    "# create an HTML link to download your generated geometries\n",
    "\n",
    "def create_download_link( df_nodes, title = \"Download CSV file\", filename = \"data.csv\"):  \n",
    "    csv = df_nodes.to_csv()\n",
    "    b64 = base64.b64encode(csv.encode())\n",
    "    payload = b64.decode()\n",
    "    html = '<a download=\"{filename}\" href=\"data:text/csv;base64,{payload}\" target=\"_blank\">{title}</a>'\n",
    "    html = html.format(payload=payload,title=title,filename=filename)\n",
    "    return HTML(html)\n",
    "\n",
    "create_download_link(df_nodes)"
   ]
  },
  {
   "cell_type": "code",
   "execution_count": 44,
   "metadata": {},
   "outputs": [],
   "source": [
    "# convert dictionary to data frame in pandas\n",
    "df_beams=pd.DataFrame.from_dict(BEAMS, orient='index')"
   ]
  },
  {
   "cell_type": "code",
   "execution_count": 45,
   "metadata": {},
   "outputs": [
    {
     "data": {
      "text/html": [
       "<a download=\"data.csv\" href=\"data:text/csv;base64,LDAsMSwyLDMsNCw1LDYsNyw4LDksMTAsMTEsMTIsMTMsMTQKMjEwMDEsMjAwMS4wLDIwMDIuMCwxLDEsMCxGRkZGRlIsRkZGRkZSLDAsMCwwLDAsMCwwLDAsMAoyMTAwMiwyMDAyLjAsMjAwMy4wLDEsMSwwLEZGRkZGUixGRkZGRlIsMCwwLDAsMCwwLDAsMCwwCjIxMDAzLDIwMDMuMCwyMDA0LjAsMSwxLDAsRkZGRkZSLEZGRkZGUiwwLDAsMCwwLDAsMCwwLDAKMjEwMDQsMjAwNC4wLDIwMDUuMCwxLDEsMCxGRkZGRlIsRkZGRkZSLDAsMCwwLDAsMCwwLDAsMAoyMTAwNSwyMDA1LjAsMjAwNi4wLDEsMSwwLEZGRkZGUixGRkZGRlIsMCwwLDAsMCwwLDAsMCwwCjIxMDA2LDIwMDYuMCwyMDA3LjAsMSwxLDAsRkZGRkZSLEZGRkZGUiwwLDAsMCwwLDAsMCwwLDAKMjEwMDcsMjAwNy4wLDIwMDguMCwxLDEsMCxGRkZGRlIsRkZGRkZSLDAsMCwwLDAsMCwwLDAsMAoyMTAwOCwyMDA4LjAsMjAwOS4wLDEsMSwwLEZGRkZGUixGRkZGRlIsMCwwLDAsMCwwLDAsMCwwCjIxMDA5LDIwMDkuMCwyMDEwLjAsMSwxLDAsRkZGRkZSLEZGRkZGUiwwLDAsMCwwLDAsMCwwLDAKMjEwMTAsMjAxMC4wLDIwMTEuMCwxLDEsMCxGRkZGRlIsRkZGRkZSLDAsMCwwLDAsMCwwLDAsMAoyMTAxMSwyMDExLjAsMjAxMi4wLDEsMSwwLEZGRkZGUixGRkZGRlIsMCwwLDAsMCwwLDAsMCwwCjIxMDEyLDIwMTIuMCwyMDEzLjAsMSwxLDAsRkZGRkZSLEZGRkZGUiwwLDAsMCwwLDAsMCwwLDAKMjIwMDEsMjAxNC4wLDIwMTUuMCwxLDEsMCxGRkZGRlIsRkZGRkZSLDAsMCwwLDAsMCwwLDAsMAoyMjAwMiwyMDE1LjAsMjAxNi4wLDEsMSwwLEZGRkZGUixGRkZGRlIsMCwwLDAsMCwwLDAsMCwwCjIyMDAzLDIwMTYuMCwyMDE3LjAsMSwxLDAsRkZGRkZSLEZGRkZGUiwwLDAsMCwwLDAsMCwwLDAKMjIwMDQsMjAxNy4wLDIwMTguMCwxLDEsMCxGRkZGRlIsRkZGRkZSLDAsMCwwLDAsMCwwLDAsMAoyMjAwNSwyMDE4LjAsMjAxOS4wLDEsMSwwLEZGRkZGUixGRkZGRlIsMCwwLDAsMCwwLDAsMCwwCjIyMDA2LDIwMTkuMCwyMDIwLjAsMSwxLDAsRkZGRkZSLEZGRkZGUiwwLDAsMCwwLDAsMCwwLDAKMjIwMDcsMjAyMC4wLDIwMjEuMCwxLDEsMCxGRkZGRlIsRkZGRkZSLDAsMCwwLDAsMCwwLDAsMAoyMjAwOCwyMDIxLjAsMjAyMi4wLDEsMSwwLEZGRkZGUixGRkZGRlIsMCwwLDAsMCwwLDAsMCwwCjIyMDA5LDIwMjIuMCwyMDIzLjAsMSwxLDAsRkZGRkZSLEZGRkZGUiwwLDAsMCwwLDAsMCwwLDAKMjIwMTAsMjAyMy4wLDIwMjQuMCwxLDEsMCxGRkZGRlIsRkZGRkZSLDAsMCwwLDAsMCwwLDAsMAoyMjAxMSwyMDI0LjAsMjAyNS4wLDEsMSwwLEZGRkZGUixGRkZGRlIsMCwwLDAsMCwwLDAsMCwwCjIyMDEyLDIwMjUuMCwyMDI2LjAsMSwxLDAsRkZGRkZSLEZGRkZGUiwwLDAsMCwwLDAsMCwwLDAKMjMwMDEsMjAyNy4wLDIwMjguMCwxLDEsMCxGRkZGRlIsRkZGRkZSLDAsMCwwLDAsMCwwLDAsMAoyMzAwMiwyMDI4LjAsMjAyOS4wLDEsMSwwLEZGRkZGUixGRkZGRlIsMCwwLDAsMCwwLDAsMCwwCjIzMDAzLDIwMjkuMCwyMDMwLjAsMSwxLDAsRkZGRkZSLEZGRkZGUiwwLDAsMCwwLDAsMCwwLDAKMjMwMDQsMjAzMC4wLDIwMzEuMCwxLDEsMCxGRkZGRlIsRkZGRkZSLDAsMCwwLDAsMCwwLDAsMAoyMzAwNSwyMDMxLjAsMjAzMi4wLDEsMSwwLEZGRkZGUixGRkZGRlIsMCwwLDAsMCwwLDAsMCwwCjIzMDA2LDIwMzIuMCwyMDMzLjAsMSwxLDAsRkZGRkZSLEZGRkZGUiwwLDAsMCwwLDAsMCwwLDAKMjMwMDcsMjAzMy4wLDIwMzQuMCwxLDEsMCxGRkZGRlIsRkZGRkZSLDAsMCwwLDAsMCwwLDAsMAoyMzAwOCwyMDM0LjAsMjAzNS4wLDEsMSwwLEZGRkZGUixGRkZGRlIsMCwwLDAsMCwwLDAsMCwwCjIzMDA5LDIwMzUuMCwyMDM2LjAsMSwxLDAsRkZGRkZSLEZGRkZGUiwwLDAsMCwwLDAsMCwwLDAKMjMwMTAsMjAzNi4wLDIwMzcuMCwxLDEsMCxGRkZGRlIsRkZGRkZSLDAsMCwwLDAsMCwwLDAsMAoyMzAxMSwyMDM3LjAsMjAzOC4wLDEsMSwwLEZGRkZGUixGRkZGRlIsMCwwLDAsMCwwLDAsMCwwCjIzMDEyLDIwMzguMCwyMDM5LjAsMSwxLDAsRkZGRkZSLEZGRkZGUiwwLDAsMCwwLDAsMCwwLDAKMjQwMDEsMjA0MC4wLDIwNDEuMCwxLDEsMCxGRkZGRlIsRkZGRkZSLDAsMCwwLDAsMCwwLDAsMAoyNDAwMiwyMDQxLjAsMjA0Mi4wLDEsMSwwLEZGRkZGUixGRkZGRlIsMCwwLDAsMCwwLDAsMCwwCjI0MDAzLDIwNDIuMCwyMDQzLjAsMSwxLDAsRkZGRkZSLEZGRkZGUiwwLDAsMCwwLDAsMCwwLDAKMjQwMDQsMjA0My4wLDIwNDQuMCwxLDEsMCxGRkZGRlIsRkZGRkZSLDAsMCwwLDAsMCwwLDAsMAoyNDAwNSwyMDQ0LjAsMjA0NS4wLDEsMSwwLEZGRkZGUixGRkZGRlIsMCwwLDAsMCwwLDAsMCwwCjI0MDA2LDIwNDUuMCwyMDQ2LjAsMSwxLDAsRkZGRkZSLEZGRkZGUiwwLDAsMCwwLDAsMCwwLDAKMjQwMDcsMjA0Ni4wLDIwNDcuMCwxLDEsMCxGRkZGRlIsRkZGRkZSLDAsMCwwLDAsMCwwLDAsMAoyNDAwOCwyMDQ3LjAsMjA0OC4wLDEsMSwwLEZGRkZGUixGRkZGRlIsMCwwLDAsMCwwLDAsMCwwCjI0MDA5LDIwNDguMCwyMDQ5LjAsMSwxLDAsRkZGRkZSLEZGRkZGUiwwLDAsMCwwLDAsMCwwLDAKMjQwMTAsMjA0OS4wLDIwNTAuMCwxLDEsMCxGRkZGRlIsRkZGRkZSLDAsMCwwLDAsMCwwLDAsMAoyNDAxMSwyMDUwLjAsMjA1MS4wLDEsMSwwLEZGRkZGUixGRkZGRlIsMCwwLDAsMCwwLDAsMCwwCjI0MDEyLDIwNTEuMCwyMDUyLjAsMSwxLDAsRkZGRkZSLEZGRkZGUiwwLDAsMCwwLDAsMCwwLDAKMjUwMDEsMjA1My4wLDIwNTQuMCwxLDEsMCxGRkZGRlIsRkZGRkZSLDAsMCwwLDAsMCwwLDAsMAoyNTAwMiwyMDU0LjAsMjA1NS4wLDEsMSwwLEZGRkZGUixGRkZGRlIsMCwwLDAsMCwwLDAsMCwwCjI1MDAzLDIwNTUuMCwyMDU2LjAsMSwxLDAsRkZGRkZSLEZGRkZGUiwwLDAsMCwwLDAsMCwwLDAKMjUwMDQsMjA1Ni4wLDIwNTcuMCwxLDEsMCxGRkZGRlIsRkZGRkZSLDAsMCwwLDAsMCwwLDAsMAoyNTAwNSwyMDU3LjAsMjA1OC4wLDEsMSwwLEZGRkZGUixGRkZGRlIsMCwwLDAsMCwwLDAsMCwwCjI1MDA2LDIwNTguMCwyMDU5LjAsMSwxLDAsRkZGRkZSLEZGRkZGUiwwLDAsMCwwLDAsMCwwLDAKMjUwMDcsMjA1OS4wLDIwNjAuMCwxLDEsMCxGRkZGRlIsRkZGRkZSLDAsMCwwLDAsMCwwLDAsMAoyNTAwOCwyMDYwLjAsMjA2MS4wLDEsMSwwLEZGRkZGUixGRkZGRlIsMCwwLDAsMCwwLDAsMCwwCjI1MDA5LDIwNjEuMCwyMDYyLjAsMSwxLDAsRkZGRkZSLEZGRkZGUiwwLDAsMCwwLDAsMCwwLDAKMjUwMTAsMjA2Mi4wLDIwNjMuMCwxLDEsMCxGRkZGRlIsRkZGRkZSLDAsMCwwLDAsMCwwLDAsMAoyNTAxMSwyMDYzLjAsMjA2NC4wLDEsMSwwLEZGRkZGUixGRkZGRlIsMCwwLDAsMCwwLDAsMCwwCjI1MDEyLDIwNjQuMCwyMDY1LjAsMSwxLDAsRkZGRkZSLEZGRkZGUiwwLDAsMCwwLDAsMCwwLDAKMzEwMDEsMzAwMS4wLDMwMDIuMCwxLDEsMCxGRkZGRlIsRkZGRkZSLDAsMCwwLDAsMCwwLDAsMAozMTAwMiwzMDAyLjAsMzAwMy4wLDEsMSwwLEZGRkZGUixGRkZGRlIsMCwwLDAsMCwwLDAsMCwwCjMxMDAzLDMwMDMuMCwzMDA0LjAsMSwxLDAsRkZGRkZSLEZGRkZGUiwwLDAsMCwwLDAsMCwwLDAKMzEwMDQsMzAwNC4wLDMwMDUuMCwxLDEsMCxGRkZGRlIsRkZGRkZSLDAsMCwwLDAsMCwwLDAsMAozMTAwNSwzMDA1LjAsMzAwNi4wLDEsMSwwLEZGRkZGUixGRkZGRlIsMCwwLDAsMCwwLDAsMCwwCjMxMDA2LDMwMDYuMCwzMDA3LjAsMSwxLDAsRkZGRkZSLEZGRkZGUiwwLDAsMCwwLDAsMCwwLDAKMzEwMDcsMzAwNy4wLDMwMDguMCwxLDEsMCxGRkZGRlIsRkZGRkZSLDAsMCwwLDAsMCwwLDAsMAozMTAwOCwzMDA4LjAsMzAwOS4wLDEsMSwwLEZGRkZGUixGRkZGRlIsMCwwLDAsMCwwLDAsMCwwCjMxMDA5LDMwMDkuMCwzMDEwLjAsMSwxLDAsRkZGRkZSLEZGRkZGUiwwLDAsMCwwLDAsMCwwLDAKMzEwMTAsMzAxMC4wLDMwMTEuMCwxLDEsMCxGRkZGRlIsRkZGRkZSLDAsMCwwLDAsMCwwLDAsMAozMTAxMSwzMDExLjAsMzAxMi4wLDEsMSwwLEZGRkZGUixGRkZGRlIsMCwwLDAsMCwwLDAsMCwwCjMxMDEyLDMwMTIuMCwzMDEzLjAsMSwxLDAsRkZGRkZSLEZGRkZGUiwwLDAsMCwwLDAsMCwwLDAKMzIwMDEsMzAxNC4wLDMwMTUuMCwxLDEsMCxGRkZGRlIsRkZGRkZSLDAsMCwwLDAsMCwwLDAsMAozMjAwMiwzMDE1LjAsMzAxNi4wLDEsMSwwLEZGRkZGUixGRkZGRlIsMCwwLDAsMCwwLDAsMCwwCjMyMDAzLDMwMTYuMCwzMDE3LjAsMSwxLDAsRkZGRkZSLEZGRkZGUiwwLDAsMCwwLDAsMCwwLDAKMzIwMDQsMzAxNy4wLDMwMTguMCwxLDEsMCxGRkZGRlIsRkZGRkZSLDAsMCwwLDAsMCwwLDAsMAozMjAwNSwzMDE4LjAsMzAxOS4wLDEsMSwwLEZGRkZGUixGRkZGRlIsMCwwLDAsMCwwLDAsMCwwCjMyMDA2LDMwMTkuMCwzMDIwLjAsMSwxLDAsRkZGRkZSLEZGRkZGUiwwLDAsMCwwLDAsMCwwLDAKMzIwMDcsMzAyMC4wLDMwMjEuMCwxLDEsMCxGRkZGRlIsRkZGRkZSLDAsMCwwLDAsMCwwLDAsMAozMjAwOCwzMDIxLjAsMzAyMi4wLDEsMSwwLEZGRkZGUixGRkZGRlIsMCwwLDAsMCwwLDAsMCwwCjMyMDA5LDMwMjIuMCwzMDIzLjAsMSwxLDAsRkZGRkZSLEZGRkZGUiwwLDAsMCwwLDAsMCwwLDAKMzIwMTAsMzAyMy4wLDMwMjQuMCwxLDEsMCxGRkZGRlIsRkZGRkZSLDAsMCwwLDAsMCwwLDAsMAozMjAxMSwzMDI0LjAsMzAyNS4wLDEsMSwwLEZGRkZGUixGRkZGRlIsMCwwLDAsMCwwLDAsMCwwCjMyMDEyLDMwMjUuMCwzMDI2LjAsMSwxLDAsRkZGRkZSLEZGRkZGUiwwLDAsMCwwLDAsMCwwLDAKMzMwMDEsMzAyNy4wLDMwMjguMCwxLDEsMCxGRkZGRlIsRkZGRkZSLDAsMCwwLDAsMCwwLDAsMAozMzAwMiwzMDI4LjAsMzAyOS4wLDEsMSwwLEZGRkZGUixGRkZGRlIsMCwwLDAsMCwwLDAsMCwwCjMzMDAzLDMwMjkuMCwzMDMwLjAsMSwxLDAsRkZGRkZSLEZGRkZGUiwwLDAsMCwwLDAsMCwwLDAKMzMwMDQsMzAzMC4wLDMwMzEuMCwxLDEsMCxGRkZGRlIsRkZGRkZSLDAsMCwwLDAsMCwwLDAsMAozMzAwNSwzMDMxLjAsMzAzMi4wLDEsMSwwLEZGRkZGUixGRkZGRlIsMCwwLDAsMCwwLDAsMCwwCjMzMDA2LDMwMzIuMCwzMDMzLjAsMSwxLDAsRkZGRkZSLEZGRkZGUiwwLDAsMCwwLDAsMCwwLDAKMzMwMDcsMzAzMy4wLDMwMzQuMCwxLDEsMCxGRkZGRlIsRkZGRkZSLDAsMCwwLDAsMCwwLDAsMAozMzAwOCwzMDM0LjAsMzAzNS4wLDEsMSwwLEZGRkZGUixGRkZGRlIsMCwwLDAsMCwwLDAsMCwwCjMzMDA5LDMwMzUuMCwzMDM2LjAsMSwxLDAsRkZGRkZSLEZGRkZGUiwwLDAsMCwwLDAsMCwwLDAKMzMwMTAsMzAzNi4wLDMwMzcuMCwxLDEsMCxGRkZGRlIsRkZGRkZSLDAsMCwwLDAsMCwwLDAsMAozMzAxMSwzMDM3LjAsMzAzOC4wLDEsMSwwLEZGRkZGUixGRkZGRlIsMCwwLDAsMCwwLDAsMCwwCjMzMDEyLDMwMzguMCwzMDM5LjAsMSwxLDAsRkZGRkZSLEZGRkZGUiwwLDAsMCwwLDAsMCwwLDAKMzQwMDEsMzA0MC4wLDMwNDEuMCwxLDEsMCxGRkZGRlIsRkZGRkZSLDAsMCwwLDAsMCwwLDAsMAozNDAwMiwzMDQxLjAsMzA0Mi4wLDEsMSwwLEZGRkZGUixGRkZGRlIsMCwwLDAsMCwwLDAsMCwwCjM0MDAzLDMwNDIuMCwzMDQzLjAsMSwxLDAsRkZGRkZSLEZGRkZGUiwwLDAsMCwwLDAsMCwwLDAKMzQwMDQsMzA0My4wLDMwNDQuMCwxLDEsMCxGRkZGRlIsRkZGRkZSLDAsMCwwLDAsMCwwLDAsMAozNDAwNSwzMDQ0LjAsMzA0NS4wLDEsMSwwLEZGRkZGUixGRkZGRlIsMCwwLDAsMCwwLDAsMCwwCjM0MDA2LDMwNDUuMCwzMDQ2LjAsMSwxLDAsRkZGRkZSLEZGRkZGUiwwLDAsMCwwLDAsMCwwLDAKMzQwMDcsMzA0Ni4wLDMwNDcuMCwxLDEsMCxGRkZGRlIsRkZGRkZSLDAsMCwwLDAsMCwwLDAsMAozNDAwOCwzMDQ3LjAsMzA0OC4wLDEsMSwwLEZGRkZGUixGRkZGRlIsMCwwLDAsMCwwLDAsMCwwCjM0MDA5LDMwNDguMCwzMDQ5LjAsMSwxLDAsRkZGRkZSLEZGRkZGUiwwLDAsMCwwLDAsMCwwLDAKMzQwMTAsMzA0OS4wLDMwNTAuMCwxLDEsMCxGRkZGRlIsRkZGRkZSLDAsMCwwLDAsMCwwLDAsMAozNDAxMSwzMDUwLjAsMzA1MS4wLDEsMSwwLEZGRkZGUixGRkZGRlIsMCwwLDAsMCwwLDAsMCwwCjM0MDEyLDMwNTEuMCwzMDUyLjAsMSwxLDAsRkZGRkZSLEZGRkZGUiwwLDAsMCwwLDAsMCwwLDAKMzUwMDEsMzA1My4wLDMwNTQuMCwxLDEsMCxGRkZGRlIsRkZGRkZSLDAsMCwwLDAsMCwwLDAsMAozNTAwMiwzMDU0LjAsMzA1NS4wLDEsMSwwLEZGRkZGUixGRkZGRlIsMCwwLDAsMCwwLDAsMCwwCjM1MDAzLDMwNTUuMCwzMDU2LjAsMSwxLDAsRkZGRkZSLEZGRkZGUiwwLDAsMCwwLDAsMCwwLDAKMzUwMDQsMzA1Ni4wLDMwNTcuMCwxLDEsMCxGRkZGRlIsRkZGRkZSLDAsMCwwLDAsMCwwLDAsMAozNTAwNSwzMDU3LjAsMzA1OC4wLDEsMSwwLEZGRkZGUixGRkZGRlIsMCwwLDAsMCwwLDAsMCwwCjM1MDA2LDMwNTguMCwzMDU5LjAsMSwxLDAsRkZGRkZSLEZGRkZGUiwwLDAsMCwwLDAsMCwwLDAKMzUwMDcsMzA1OS4wLDMwNjAuMCwxLDEsMCxGRkZGRlIsRkZGRkZSLDAsMCwwLDAsMCwwLDAsMAozNTAwOCwzMDYwLjAsMzA2MS4wLDEsMSwwLEZGRkZGUixGRkZGRlIsMCwwLDAsMCwwLDAsMCwwCjM1MDA5LDMwNjEuMCwzMDYyLjAsMSwxLDAsRkZGRkZSLEZGRkZGUiwwLDAsMCwwLDAsMCwwLDAKMzUwMTAsMzA2Mi4wLDMwNjMuMCwxLDEsMCxGRkZGRlIsRkZGRkZSLDAsMCwwLDAsMCwwLDAsMAozNTAxMSwzMDYzLjAsMzA2NC4wLDEsMSwwLEZGRkZGUixGRkZGRlIsMCwwLDAsMCwwLDAsMCwwCjM1MDEyLDMwNjQuMCwzMDY1LjAsMSwxLDAsRkZGRkZSLEZGRkZGUiwwLDAsMCwwLDAsMCwwLDAKNDEwMDEsNDAwMS4wLDQwMDIuMCwxLDEsMCxGRkZGRlIsRkZGRkZSLDAsMCwwLDAsMCwwLDAsMAo0MTAwMiw0MDAyLjAsNDAwMy4wLDEsMSwwLEZGRkZGUixGRkZGRlIsMCwwLDAsMCwwLDAsMCwwCjQxMDAzLDQwMDMuMCw0MDA0LjAsMSwxLDAsRkZGRkZSLEZGRkZGUiwwLDAsMCwwLDAsMCwwLDAKNDEwMDQsNDAwNC4wLDQwMDUuMCwxLDEsMCxGRkZGRlIsRkZGRkZSLDAsMCwwLDAsMCwwLDAsMAo0MTAwNSw0MDA1LjAsNDAwNi4wLDEsMSwwLEZGRkZGUixGRkZGRlIsMCwwLDAsMCwwLDAsMCwwCjQxMDA2LDQwMDYuMCw0MDA3LjAsMSwxLDAsRkZGRkZSLEZGRkZGUiwwLDAsMCwwLDAsMCwwLDAKNDEwMDcsNDAwNy4wLDQwMDguMCwxLDEsMCxGRkZGRlIsRkZGRkZSLDAsMCwwLDAsMCwwLDAsMAo0MTAwOCw0MDA4LjAsNDAwOS4wLDEsMSwwLEZGRkZGUixGRkZGRlIsMCwwLDAsMCwwLDAsMCwwCjQxMDA5LDQwMDkuMCw0MDEwLjAsMSwxLDAsRkZGRkZSLEZGRkZGUiwwLDAsMCwwLDAsMCwwLDAKNDEwMTAsNDAxMC4wLDQwMTEuMCwxLDEsMCxGRkZGRlIsRkZGRkZSLDAsMCwwLDAsMCwwLDAsMAo0MTAxMSw0MDExLjAsNDAxMi4wLDEsMSwwLEZGRkZGUixGRkZGRlIsMCwwLDAsMCwwLDAsMCwwCjQxMDEyLDQwMTIuMCw0MDEzLjAsMSwxLDAsRkZGRkZSLEZGRkZGUiwwLDAsMCwwLDAsMCwwLDAKNDIwMDEsNDAxNC4wLDQwMTUuMCwxLDEsMCxGRkZGRlIsRkZGRkZSLDAsMCwwLDAsMCwwLDAsMAo0MjAwMiw0MDE1LjAsNDAxNi4wLDEsMSwwLEZGRkZGUixGRkZGRlIsMCwwLDAsMCwwLDAsMCwwCjQyMDAzLDQwMTYuMCw0MDE3LjAsMSwxLDAsRkZGRkZSLEZGRkZGUiwwLDAsMCwwLDAsMCwwLDAKNDIwMDQsNDAxNy4wLDQwMTguMCwxLDEsMCxGRkZGRlIsRkZGRkZSLDAsMCwwLDAsMCwwLDAsMAo0MjAwNSw0MDE4LjAsNDAxOS4wLDEsMSwwLEZGRkZGUixGRkZGRlIsMCwwLDAsMCwwLDAsMCwwCjQyMDA2LDQwMTkuMCw0MDIwLjAsMSwxLDAsRkZGRkZSLEZGRkZGUiwwLDAsMCwwLDAsMCwwLDAKNDIwMDcsNDAyMC4wLDQwMjEuMCwxLDEsMCxGRkZGRlIsRkZGRkZSLDAsMCwwLDAsMCwwLDAsMAo0MjAwOCw0MDIxLjAsNDAyMi4wLDEsMSwwLEZGRkZGUixGRkZGRlIsMCwwLDAsMCwwLDAsMCwwCjQyMDA5LDQwMjIuMCw0MDIzLjAsMSwxLDAsRkZGRkZSLEZGRkZGUiwwLDAsMCwwLDAsMCwwLDAKNDIwMTAsNDAyMy4wLDQwMjQuMCwxLDEsMCxGRkZGRlIsRkZGRkZSLDAsMCwwLDAsMCwwLDAsMAo0MjAxMSw0MDI0LjAsNDAyNS4wLDEsMSwwLEZGRkZGUixGRkZGRlIsMCwwLDAsMCwwLDAsMCwwCjQyMDEyLDQwMjUuMCw0MDI2LjAsMSwxLDAsRkZGRkZSLEZGRkZGUiwwLDAsMCwwLDAsMCwwLDAKNDMwMDEsNDAyNy4wLDQwMjguMCwxLDEsMCxGRkZGRlIsRkZGRkZSLDAsMCwwLDAsMCwwLDAsMAo0MzAwMiw0MDI4LjAsNDAyOS4wLDEsMSwwLEZGRkZGUixGRkZGRlIsMCwwLDAsMCwwLDAsMCwwCjQzMDAzLDQwMjkuMCw0MDMwLjAsMSwxLDAsRkZGRkZSLEZGRkZGUiwwLDAsMCwwLDAsMCwwLDAKNDMwMDQsNDAzMC4wLDQwMzEuMCwxLDEsMCxGRkZGRlIsRkZGRkZSLDAsMCwwLDAsMCwwLDAsMAo0MzAwNSw0MDMxLjAsNDAzMi4wLDEsMSwwLEZGRkZGUixGRkZGRlIsMCwwLDAsMCwwLDAsMCwwCjQzMDA2LDQwMzIuMCw0MDMzLjAsMSwxLDAsRkZGRkZSLEZGRkZGUiwwLDAsMCwwLDAsMCwwLDAKNDMwMDcsNDAzMy4wLDQwMzQuMCwxLDEsMCxGRkZGRlIsRkZGRkZSLDAsMCwwLDAsMCwwLDAsMAo0MzAwOCw0MDM0LjAsNDAzNS4wLDEsMSwwLEZGRkZGUixGRkZGRlIsMCwwLDAsMCwwLDAsMCwwCjQzMDA5LDQwMzUuMCw0MDM2LjAsMSwxLDAsRkZGRkZSLEZGRkZGUiwwLDAsMCwwLDAsMCwwLDAKNDMwMTAsNDAzNi4wLDQwMzcuMCwxLDEsMCxGRkZGRlIsRkZGRkZSLDAsMCwwLDAsMCwwLDAsMAo0MzAxMSw0MDM3LjAsNDAzOC4wLDEsMSwwLEZGRkZGUixGRkZGRlIsMCwwLDAsMCwwLDAsMCwwCjQzMDEyLDQwMzguMCw0MDM5LjAsMSwxLDAsRkZGRkZSLEZGRkZGUiwwLDAsMCwwLDAsMCwwLDAKNDQwMDEsNDA0MC4wLDQwNDEuMCwxLDEsMCxGRkZGRlIsRkZGRkZSLDAsMCwwLDAsMCwwLDAsMAo0NDAwMiw0MDQxLjAsNDA0Mi4wLDEsMSwwLEZGRkZGUixGRkZGRlIsMCwwLDAsMCwwLDAsMCwwCjQ0MDAzLDQwNDIuMCw0MDQzLjAsMSwxLDAsRkZGRkZSLEZGRkZGUiwwLDAsMCwwLDAsMCwwLDAKNDQwMDQsNDA0My4wLDQwNDQuMCwxLDEsMCxGRkZGRlIsRkZGRkZSLDAsMCwwLDAsMCwwLDAsMAo0NDAwNSw0MDQ0LjAsNDA0NS4wLDEsMSwwLEZGRkZGUixGRkZGRlIsMCwwLDAsMCwwLDAsMCwwCjQ0MDA2LDQwNDUuMCw0MDQ2LjAsMSwxLDAsRkZGRkZSLEZGRkZGUiwwLDAsMCwwLDAsMCwwLDAKNDQwMDcsNDA0Ni4wLDQwNDcuMCwxLDEsMCxGRkZGRlIsRkZGRkZSLDAsMCwwLDAsMCwwLDAsMAo0NDAwOCw0MDQ3LjAsNDA0OC4wLDEsMSwwLEZGRkZGUixGRkZGRlIsMCwwLDAsMCwwLDAsMCwwCjQ0MDA5LDQwNDguMCw0MDQ5LjAsMSwxLDAsRkZGRkZSLEZGRkZGUiwwLDAsMCwwLDAsMCwwLDAKNDQwMTAsNDA0OS4wLDQwNTAuMCwxLDEsMCxGRkZGRlIsRkZGRkZSLDAsMCwwLDAsMCwwLDAsMAo0NDAxMSw0MDUwLjAsNDA1MS4wLDEsMSwwLEZGRkZGUixGRkZGRlIsMCwwLDAsMCwwLDAsMCwwCjQ0MDEyLDQwNTEuMCw0MDUyLjAsMSwxLDAsRkZGRkZSLEZGRkZGUiwwLDAsMCwwLDAsMCwwLDAKNDUwMDEsNDA1My4wLDQwNTQuMCwxLDEsMCxGRkZGRlIsRkZGRkZSLDAsMCwwLDAsMCwwLDAsMAo0NTAwMiw0MDU0LjAsNDA1NS4wLDEsMSwwLEZGRkZGUixGRkZGRlIsMCwwLDAsMCwwLDAsMCwwCjQ1MDAzLDQwNTUuMCw0MDU2LjAsMSwxLDAsRkZGRkZSLEZGRkZGUiwwLDAsMCwwLDAsMCwwLDAKNDUwMDQsNDA1Ni4wLDQwNTcuMCwxLDEsMCxGRkZGRlIsRkZGRkZSLDAsMCwwLDAsMCwwLDAsMAo0NTAwNSw0MDU3LjAsNDA1OC4wLDEsMSwwLEZGRkZGUixGRkZGRlIsMCwwLDAsMCwwLDAsMCwwCjQ1MDA2LDQwNTguMCw0MDU5LjAsMSwxLDAsRkZGRkZSLEZGRkZGUiwwLDAsMCwwLDAsMCwwLDAKNDUwMDcsNDA1OS4wLDQwNjAuMCwxLDEsMCxGRkZGRlIsRkZGRkZSLDAsMCwwLDAsMCwwLDAsMAo0NTAwOCw0MDYwLjAsNDA2MS4wLDEsMSwwLEZGRkZGUixGRkZGRlIsMCwwLDAsMCwwLDAsMCwwCjQ1MDA5LDQwNjEuMCw0MDYyLjAsMSwxLDAsRkZGRkZSLEZGRkZGUiwwLDAsMCwwLDAsMCwwLDAKNDUwMTAsNDA2Mi4wLDQwNjMuMCwxLDEsMCxGRkZGRlIsRkZGRkZSLDAsMCwwLDAsMCwwLDAsMAo0NTAxMSw0MDYzLjAsNDA2NC4wLDEsMSwwLEZGRkZGUixGRkZGRlIsMCwwLDAsMCwwLDAsMCwwCjQ1MDEyLDQwNjQuMCw0MDY1LjAsMSwxLDAsRkZGRkZSLEZGRkZGUiwwLDAsMCwwLDAsMCwwLDAKMjAxMDEsMjAwMS4wLDIwMTQuMCwxLDEsMCxGRkZGRlIsRkZGRkZSLDAsMCwwLDAsMCwwLDAsMAoyMDEwMiwyMDAyLjAsMjAxNS4wLDEsMSwwLEZGRkZGUixGRkZGRlIsMCwwLDAsMCwwLDAsMCwwCjIwMTAzLDIwMDMuMCwyMDE2LjAsMSwxLDAsRkZGRkZSLEZGRkZGUiwwLDAsMCwwLDAsMCwwLDAKMjAxMDQsMjAwNC4wLDIwMTcuMCwxLDEsMCxGRkZGRlIsRkZGRkZSLDAsMCwwLDAsMCwwLDAsMAoyMDEwNSwyMDA1LjAsMjAxOC4wLDEsMSwwLEZGRkZGUixGRkZGRlIsMCwwLDAsMCwwLDAsMCwwCjIwMTA2LDIwMDYuMCwyMDE5LjAsMSwxLDAsRkZGRkZSLEZGRkZGUiwwLDAsMCwwLDAsMCwwLDAKMjAxMDcsMjAwNy4wLDIwMjAuMCwxLDEsMCxGRkZGRlIsRkZGRkZSLDAsMCwwLDAsMCwwLDAsMAoyMDEwOCwyMDA4LjAsMjAyMS4wLDEsMSwwLEZGRkZGUixGRkZGRlIsMCwwLDAsMCwwLDAsMCwwCjIwMTA5LDIwMDkuMCwyMDIyLjAsMSwxLDAsRkZGRkZSLEZGRkZGUiwwLDAsMCwwLDAsMCwwLDAKMjAxMTAsMjAxMC4wLDIwMjMuMCwxLDEsMCxGRkZGRlIsRkZGRkZSLDAsMCwwLDAsMCwwLDAsMAoyMDExMSwyMDExLjAsMjAyNC4wLDEsMSwwLEZGRkZGUixGRkZGRlIsMCwwLDAsMCwwLDAsMCwwCjIwMTEyLDIwMTIuMCwyMDI1LjAsMSwxLDAsRkZGRkZSLEZGRkZGUiwwLDAsMCwwLDAsMCwwLDAKMjAxMTMsMjAxMy4wLDIwMjYuMCwxLDEsMCxGRkZGRlIsRkZGRkZSLDAsMCwwLDAsMCwwLDAsMAoyMDIwMSwyMDE0LjAsMjAyNy4wLDEsMSwwLEZGRkZGUixGRkZGRlIsMCwwLDAsMCwwLDAsMCwwCjIwMjAyLDIwMTUuMCwyMDI4LjAsMSwxLDAsRkZGRkZSLEZGRkZGUiwwLDAsMCwwLDAsMCwwLDAKMjAyMDMsMjAxNi4wLDIwMjkuMCwxLDEsMCxGRkZGRlIsRkZGRkZSLDAsMCwwLDAsMCwwLDAsMAoyMDIwNCwyMDE3LjAsMjAzMC4wLDEsMSwwLEZGRkZGUixGRkZGRlIsMCwwLDAsMCwwLDAsMCwwCjIwMjA1LDIwMTguMCwyMDMxLjAsMSwxLDAsRkZGRkZSLEZGRkZGUiwwLDAsMCwwLDAsMCwwLDAKMjAyMDYsMjAxOS4wLDIwMzIuMCwxLDEsMCxGRkZGRlIsRkZGRkZSLDAsMCwwLDAsMCwwLDAsMAoyMDIwNywyMDIwLjAsMjAzMy4wLDEsMSwwLEZGRkZGUixGRkZGRlIsMCwwLDAsMCwwLDAsMCwwCjIwMjA4LDIwMjEuMCwyMDM0LjAsMSwxLDAsRkZGRkZSLEZGRkZGUiwwLDAsMCwwLDAsMCwwLDAKMjAyMDksMjAyMi4wLDIwMzUuMCwxLDEsMCxGRkZGRlIsRkZGRkZSLDAsMCwwLDAsMCwwLDAsMAoyMDIxMCwyMDIzLjAsMjAzNi4wLDEsMSwwLEZGRkZGUixGRkZGRlIsMCwwLDAsMCwwLDAsMCwwCjIwMjExLDIwMjQuMCwyMDM3LjAsMSwxLDAsRkZGRkZSLEZGRkZGUiwwLDAsMCwwLDAsMCwwLDAKMjAyMTIsMjAyNS4wLDIwMzguMCwxLDEsMCxGRkZGRlIsRkZGRkZSLDAsMCwwLDAsMCwwLDAsMAoyMDIxMywyMDI2LjAsMjAzOS4wLDEsMSwwLEZGRkZGUixGRkZGRlIsMCwwLDAsMCwwLDAsMCwwCjIwMzAxLDIwMjcuMCwyMDQwLjAsMSwxLDAsRkZGRkZSLEZGRkZGUiwwLDAsMCwwLDAsMCwwLDAKMjAzMDIsMjAyOC4wLDIwNDEuMCwxLDEsMCxGRkZGRlIsRkZGRkZSLDAsMCwwLDAsMCwwLDAsMAoyMDMwMywyMDI5LjAsMjA0Mi4wLDEsMSwwLEZGRkZGUixGRkZGRlIsMCwwLDAsMCwwLDAsMCwwCjIwMzA0LDIwMzAuMCwyMDQzLjAsMSwxLDAsRkZGRkZSLEZGRkZGUiwwLDAsMCwwLDAsMCwwLDAKMjAzMDUsMjAzMS4wLDIwNDQuMCwxLDEsMCxGRkZGRlIsRkZGRkZSLDAsMCwwLDAsMCwwLDAsMAoyMDMwNiwyMDMyLjAsMjA0NS4wLDEsMSwwLEZGRkZGUixGRkZGRlIsMCwwLDAsMCwwLDAsMCwwCjIwMzA3LDIwMzMuMCwyMDQ2LjAsMSwxLDAsRkZGRkZSLEZGRkZGUiwwLDAsMCwwLDAsMCwwLDAKMjAzMDgsMjAzNC4wLDIwNDcuMCwxLDEsMCxGRkZGRlIsRkZGRkZSLDAsMCwwLDAsMCwwLDAsMAoyMDMwOSwyMDM1LjAsMjA0OC4wLDEsMSwwLEZGRkZGUixGRkZGRlIsMCwwLDAsMCwwLDAsMCwwCjIwMzEwLDIwMzYuMCwyMDQ5LjAsMSwxLDAsRkZGRkZSLEZGRkZGUiwwLDAsMCwwLDAsMCwwLDAKMjAzMTEsMjAzNy4wLDIwNTAuMCwxLDEsMCxGRkZGRlIsRkZGRkZSLDAsMCwwLDAsMCwwLDAsMAoyMDMxMiwyMDM4LjAsMjA1MS4wLDEsMSwwLEZGRkZGUixGRkZGRlIsMCwwLDAsMCwwLDAsMCwwCjIwMzEzLDIwMzkuMCwyMDUyLjAsMSwxLDAsRkZGRkZSLEZGRkZGUiwwLDAsMCwwLDAsMCwwLDAKMjA0MDEsMjA0MC4wLDIwNTMuMCwxLDEsMCxGRkZGRlIsRkZGRkZSLDAsMCwwLDAsMCwwLDAsMAoyMDQwMiwyMDQxLjAsMjA1NC4wLDEsMSwwLEZGRkZGUixGRkZGRlIsMCwwLDAsMCwwLDAsMCwwCjIwNDAzLDIwNDIuMCwyMDU1LjAsMSwxLDAsRkZGRkZSLEZGRkZGUiwwLDAsMCwwLDAsMCwwLDAKMjA0MDQsMjA0My4wLDIwNTYuMCwxLDEsMCxGRkZGRlIsRkZGRkZSLDAsMCwwLDAsMCwwLDAsMAoyMDQwNSwyMDQ0LjAsMjA1Ny4wLDEsMSwwLEZGRkZGUixGRkZGRlIsMCwwLDAsMCwwLDAsMCwwCjIwNDA2LDIwNDUuMCwyMDU4LjAsMSwxLDAsRkZGRkZSLEZGRkZGUiwwLDAsMCwwLDAsMCwwLDAKMjA0MDcsMjA0Ni4wLDIwNTkuMCwxLDEsMCxGRkZGRlIsRkZGRkZSLDAsMCwwLDAsMCwwLDAsMAoyMDQwOCwyMDQ3LjAsMjA2MC4wLDEsMSwwLEZGRkZGUixGRkZGRlIsMCwwLDAsMCwwLDAsMCwwCjIwNDA5LDIwNDguMCwyMDYxLjAsMSwxLDAsRkZGRkZSLEZGRkZGUiwwLDAsMCwwLDAsMCwwLDAKMjA0MTAsMjA0OS4wLDIwNjIuMCwxLDEsMCxGRkZGRlIsRkZGRkZSLDAsMCwwLDAsMCwwLDAsMAoyMDQxMSwyMDUwLjAsMjA2My4wLDEsMSwwLEZGRkZGUixGRkZGRlIsMCwwLDAsMCwwLDAsMCwwCjIwNDEyLDIwNTEuMCwyMDY0LjAsMSwxLDAsRkZGRkZSLEZGRkZGUiwwLDAsMCwwLDAsMCwwLDAKMjA0MTMsMjA1Mi4wLDIwNjUuMCwxLDEsMCxGRkZGRlIsRkZGRkZSLDAsMCwwLDAsMCwwLDAsMAozMDEwMSwzMDAxLjAsMzAxNC4wLDEsMSwwLEZGRkZGUixGRkZGRlIsMCwwLDAsMCwwLDAsMCwwCjMwMTAyLDMwMDIuMCwzMDE1LjAsMSwxLDAsRkZGRkZSLEZGRkZGUiwwLDAsMCwwLDAsMCwwLDAKMzAxMDMsMzAwMy4wLDMwMTYuMCwxLDEsMCxGRkZGRlIsRkZGRkZSLDAsMCwwLDAsMCwwLDAsMAozMDEwNCwzMDA0LjAsMzAxNy4wLDEsMSwwLEZGRkZGUixGRkZGRlIsMCwwLDAsMCwwLDAsMCwwCjMwMTA1LDMwMDUuMCwzMDE4LjAsMSwxLDAsRkZGRkZSLEZGRkZGUiwwLDAsMCwwLDAsMCwwLDAKMzAxMDYsMzAwNi4wLDMwMTkuMCwxLDEsMCxGRkZGRlIsRkZGRkZSLDAsMCwwLDAsMCwwLDAsMAozMDEwNywzMDA3LjAsMzAyMC4wLDEsMSwwLEZGRkZGUixGRkZGRlIsMCwwLDAsMCwwLDAsMCwwCjMwMTA4LDMwMDguMCwzMDIxLjAsMSwxLDAsRkZGRkZSLEZGRkZGUiwwLDAsMCwwLDAsMCwwLDAKMzAxMDksMzAwOS4wLDMwMjIuMCwxLDEsMCxGRkZGRlIsRkZGRkZSLDAsMCwwLDAsMCwwLDAsMAozMDExMCwzMDEwLjAsMzAyMy4wLDEsMSwwLEZGRkZGUixGRkZGRlIsMCwwLDAsMCwwLDAsMCwwCjMwMTExLDMwMTEuMCwzMDI0LjAsMSwxLDAsRkZGRkZSLEZGRkZGUiwwLDAsMCwwLDAsMCwwLDAKMzAxMTIsMzAxMi4wLDMwMjUuMCwxLDEsMCxGRkZGRlIsRkZGRkZSLDAsMCwwLDAsMCwwLDAsMAozMDExMywzMDEzLjAsMzAyNi4wLDEsMSwwLEZGRkZGUixGRkZGRlIsMCwwLDAsMCwwLDAsMCwwCjMwMjAxLDMwMTQuMCwzMDI3LjAsMSwxLDAsRkZGRkZSLEZGRkZGUiwwLDAsMCwwLDAsMCwwLDAKMzAyMDIsMzAxNS4wLDMwMjguMCwxLDEsMCxGRkZGRlIsRkZGRkZSLDAsMCwwLDAsMCwwLDAsMAozMDIwMywzMDE2LjAsMzAyOS4wLDEsMSwwLEZGRkZGUixGRkZGRlIsMCwwLDAsMCwwLDAsMCwwCjMwMjA0LDMwMTcuMCwzMDMwLjAsMSwxLDAsRkZGRkZSLEZGRkZGUiwwLDAsMCwwLDAsMCwwLDAKMzAyMDUsMzAxOC4wLDMwMzEuMCwxLDEsMCxGRkZGRlIsRkZGRkZSLDAsMCwwLDAsMCwwLDAsMAozMDIwNiwzMDE5LjAsMzAzMi4wLDEsMSwwLEZGRkZGUixGRkZGRlIsMCwwLDAsMCwwLDAsMCwwCjMwMjA3LDMwMjAuMCwzMDMzLjAsMSwxLDAsRkZGRkZSLEZGRkZGUiwwLDAsMCwwLDAsMCwwLDAKMzAyMDgsMzAyMS4wLDMwMzQuMCwxLDEsMCxGRkZGRlIsRkZGRkZSLDAsMCwwLDAsMCwwLDAsMAozMDIwOSwzMDIyLjAsMzAzNS4wLDEsMSwwLEZGRkZGUixGRkZGRlIsMCwwLDAsMCwwLDAsMCwwCjMwMjEwLDMwMjMuMCwzMDM2LjAsMSwxLDAsRkZGRkZSLEZGRkZGUiwwLDAsMCwwLDAsMCwwLDAKMzAyMTEsMzAyNC4wLDMwMzcuMCwxLDEsMCxGRkZGRlIsRkZGRkZSLDAsMCwwLDAsMCwwLDAsMAozMDIxMiwzMDI1LjAsMzAzOC4wLDEsMSwwLEZGRkZGUixGRkZGRlIsMCwwLDAsMCwwLDAsMCwwCjMwMjEzLDMwMjYuMCwzMDM5LjAsMSwxLDAsRkZGRkZSLEZGRkZGUiwwLDAsMCwwLDAsMCwwLDAKMzAzMDEsMzAyNy4wLDMwNDAuMCwxLDEsMCxGRkZGRlIsRkZGRkZSLDAsMCwwLDAsMCwwLDAsMAozMDMwMiwzMDI4LjAsMzA0MS4wLDEsMSwwLEZGRkZGUixGRkZGRlIsMCwwLDAsMCwwLDAsMCwwCjMwMzAzLDMwMjkuMCwzMDQyLjAsMSwxLDAsRkZGRkZSLEZGRkZGUiwwLDAsMCwwLDAsMCwwLDAKMzAzMDQsMzAzMC4wLDMwNDMuMCwxLDEsMCxGRkZGRlIsRkZGRkZSLDAsMCwwLDAsMCwwLDAsMAozMDMwNSwzMDMxLjAsMzA0NC4wLDEsMSwwLEZGRkZGUixGRkZGRlIsMCwwLDAsMCwwLDAsMCwwCjMwMzA2LDMwMzIuMCwzMDQ1LjAsMSwxLDAsRkZGRkZSLEZGRkZGUiwwLDAsMCwwLDAsMCwwLDAKMzAzMDcsMzAzMy4wLDMwNDYuMCwxLDEsMCxGRkZGRlIsRkZGRkZSLDAsMCwwLDAsMCwwLDAsMAozMDMwOCwzMDM0LjAsMzA0Ny4wLDEsMSwwLEZGRkZGUixGRkZGRlIsMCwwLDAsMCwwLDAsMCwwCjMwMzA5LDMwMzUuMCwzMDQ4LjAsMSwxLDAsRkZGRkZSLEZGRkZGUiwwLDAsMCwwLDAsMCwwLDAKMzAzMTAsMzAzNi4wLDMwNDkuMCwxLDEsMCxGRkZGRlIsRkZGRkZSLDAsMCwwLDAsMCwwLDAsMAozMDMxMSwzMDM3LjAsMzA1MC4wLDEsMSwwLEZGRkZGUixGRkZGRlIsMCwwLDAsMCwwLDAsMCwwCjMwMzEyLDMwMzguMCwzMDUxLjAsMSwxLDAsRkZGRkZSLEZGRkZGUiwwLDAsMCwwLDAsMCwwLDAKMzAzMTMsMzAzOS4wLDMwNTIuMCwxLDEsMCxGRkZGRlIsRkZGRkZSLDAsMCwwLDAsMCwwLDAsMAozMDQwMSwzMDQwLjAsMzA1My4wLDEsMSwwLEZGRkZGUixGRkZGRlIsMCwwLDAsMCwwLDAsMCwwCjMwNDAyLDMwNDEuMCwzMDU0LjAsMSwxLDAsRkZGRkZSLEZGRkZGUiwwLDAsMCwwLDAsMCwwLDAKMzA0MDMsMzA0Mi4wLDMwNTUuMCwxLDEsMCxGRkZGRlIsRkZGRkZSLDAsMCwwLDAsMCwwLDAsMAozMDQwNCwzMDQzLjAsMzA1Ni4wLDEsMSwwLEZGRkZGUixGRkZGRlIsMCwwLDAsMCwwLDAsMCwwCjMwNDA1LDMwNDQuMCwzMDU3LjAsMSwxLDAsRkZGRkZSLEZGRkZGUiwwLDAsMCwwLDAsMCwwLDAKMzA0MDYsMzA0NS4wLDMwNTguMCwxLDEsMCxGRkZGRlIsRkZGRkZSLDAsMCwwLDAsMCwwLDAsMAozMDQwNywzMDQ2LjAsMzA1OS4wLDEsMSwwLEZGRkZGUixGRkZGRlIsMCwwLDAsMCwwLDAsMCwwCjMwNDA4LDMwNDcuMCwzMDYwLjAsMSwxLDAsRkZGRkZSLEZGRkZGUiwwLDAsMCwwLDAsMCwwLDAKMzA0MDksMzA0OC4wLDMwNjEuMCwxLDEsMCxGRkZGRlIsRkZGRkZSLDAsMCwwLDAsMCwwLDAsMAozMDQxMCwzMDQ5LjAsMzA2Mi4wLDEsMSwwLEZGRkZGUixGRkZGRlIsMCwwLDAsMCwwLDAsMCwwCjMwNDExLDMwNTAuMCwzMDYzLjAsMSwxLDAsRkZGRkZSLEZGRkZGUiwwLDAsMCwwLDAsMCwwLDAKMzA0MTIsMzA1MS4wLDMwNjQuMCwxLDEsMCxGRkZGRlIsRkZGRkZSLDAsMCwwLDAsMCwwLDAsMAozMDQxMywzMDUyLjAsMzA2NS4wLDEsMSwwLEZGRkZGUixGRkZGRlIsMCwwLDAsMCwwLDAsMCwwCjQwMTAxLDQwMDEuMCw0MDE0LjAsMSwxLDAsRkZGRkZSLEZGRkZGUiwwLDAsMCwwLDAsMCwwLDAKNDAxMDIsNDAwMi4wLDQwMTUuMCwxLDEsMCxGRkZGRlIsRkZGRkZSLDAsMCwwLDAsMCwwLDAsMAo0MDEwMyw0MDAzLjAsNDAxNi4wLDEsMSwwLEZGRkZGUixGRkZGRlIsMCwwLDAsMCwwLDAsMCwwCjQwMTA0LDQwMDQuMCw0MDE3LjAsMSwxLDAsRkZGRkZSLEZGRkZGUiwwLDAsMCwwLDAsMCwwLDAKNDAxMDUsNDAwNS4wLDQwMTguMCwxLDEsMCxGRkZGRlIsRkZGRkZSLDAsMCwwLDAsMCwwLDAsMAo0MDEwNiw0MDA2LjAsNDAxOS4wLDEsMSwwLEZGRkZGUixGRkZGRlIsMCwwLDAsMCwwLDAsMCwwCjQwMTA3LDQwMDcuMCw0MDIwLjAsMSwxLDAsRkZGRkZSLEZGRkZGUiwwLDAsMCwwLDAsMCwwLDAKNDAxMDgsNDAwOC4wLDQwMjEuMCwxLDEsMCxGRkZGRlIsRkZGRkZSLDAsMCwwLDAsMCwwLDAsMAo0MDEwOSw0MDA5LjAsNDAyMi4wLDEsMSwwLEZGRkZGUixGRkZGRlIsMCwwLDAsMCwwLDAsMCwwCjQwMTEwLDQwMTAuMCw0MDIzLjAsMSwxLDAsRkZGRkZSLEZGRkZGUiwwLDAsMCwwLDAsMCwwLDAKNDAxMTEsNDAxMS4wLDQwMjQuMCwxLDEsMCxGRkZGRlIsRkZGRkZSLDAsMCwwLDAsMCwwLDAsMAo0MDExMiw0MDEyLjAsNDAyNS4wLDEsMSwwLEZGRkZGUixGRkZGRlIsMCwwLDAsMCwwLDAsMCwwCjQwMTEzLDQwMTMuMCw0MDI2LjAsMSwxLDAsRkZGRkZSLEZGRkZGUiwwLDAsMCwwLDAsMCwwLDAKNDAyMDEsNDAxNC4wLDQwMjcuMCwxLDEsMCxGRkZGRlIsRkZGRkZSLDAsMCwwLDAsMCwwLDAsMAo0MDIwMiw0MDE1LjAsNDAyOC4wLDEsMSwwLEZGRkZGUixGRkZGRlIsMCwwLDAsMCwwLDAsMCwwCjQwMjAzLDQwMTYuMCw0MDI5LjAsMSwxLDAsRkZGRkZSLEZGRkZGUiwwLDAsMCwwLDAsMCwwLDAKNDAyMDQsNDAxNy4wLDQwMzAuMCwxLDEsMCxGRkZGRlIsRkZGRkZSLDAsMCwwLDAsMCwwLDAsMAo0MDIwNSw0MDE4LjAsNDAzMS4wLDEsMSwwLEZGRkZGUixGRkZGRlIsMCwwLDAsMCwwLDAsMCwwCjQwMjA2LDQwMTkuMCw0MDMyLjAsMSwxLDAsRkZGRkZSLEZGRkZGUiwwLDAsMCwwLDAsMCwwLDAKNDAyMDcsNDAyMC4wLDQwMzMuMCwxLDEsMCxGRkZGRlIsRkZGRkZSLDAsMCwwLDAsMCwwLDAsMAo0MDIwOCw0MDIxLjAsNDAzNC4wLDEsMSwwLEZGRkZGUixGRkZGRlIsMCwwLDAsMCwwLDAsMCwwCjQwMjA5LDQwMjIuMCw0MDM1LjAsMSwxLDAsRkZGRkZSLEZGRkZGUiwwLDAsMCwwLDAsMCwwLDAKNDAyMTAsNDAyMy4wLDQwMzYuMCwxLDEsMCxGRkZGRlIsRkZGRkZSLDAsMCwwLDAsMCwwLDAsMAo0MDIxMSw0MDI0LjAsNDAzNy4wLDEsMSwwLEZGRkZGUixGRkZGRlIsMCwwLDAsMCwwLDAsMCwwCjQwMjEyLDQwMjUuMCw0MDM4LjAsMSwxLDAsRkZGRkZSLEZGRkZGUiwwLDAsMCwwLDAsMCwwLDAKNDAyMTMsNDAyNi4wLDQwMzkuMCwxLDEsMCxGRkZGRlIsRkZGRkZSLDAsMCwwLDAsMCwwLDAsMAo0MDMwMSw0MDI3LjAsNDA0MC4wLDEsMSwwLEZGRkZGUixGRkZGRlIsMCwwLDAsMCwwLDAsMCwwCjQwMzAyLDQwMjguMCw0MDQxLjAsMSwxLDAsRkZGRkZSLEZGRkZGUiwwLDAsMCwwLDAsMCwwLDAKNDAzMDMsNDAyOS4wLDQwNDIuMCwxLDEsMCxGRkZGRlIsRkZGRkZSLDAsMCwwLDAsMCwwLDAsMAo0MDMwNCw0MDMwLjAsNDA0My4wLDEsMSwwLEZGRkZGUixGRkZGRlIsMCwwLDAsMCwwLDAsMCwwCjQwMzA1LDQwMzEuMCw0MDQ0LjAsMSwxLDAsRkZGRkZSLEZGRkZGUiwwLDAsMCwwLDAsMCwwLDAKNDAzMDYsNDAzMi4wLDQwNDUuMCwxLDEsMCxGRkZGRlIsRkZGRkZSLDAsMCwwLDAsMCwwLDAsMAo0MDMwNyw0MDMzLjAsNDA0Ni4wLDEsMSwwLEZGRkZGUixGRkZGRlIsMCwwLDAsMCwwLDAsMCwwCjQwMzA4LDQwMzQuMCw0MDQ3LjAsMSwxLDAsRkZGRkZSLEZGRkZGUiwwLDAsMCwwLDAsMCwwLDAKNDAzMDksNDAzNS4wLDQwNDguMCwxLDEsMCxGRkZGRlIsRkZGRkZSLDAsMCwwLDAsMCwwLDAsMAo0MDMxMCw0MDM2LjAsNDA0OS4wLDEsMSwwLEZGRkZGUixGRkZGRlIsMCwwLDAsMCwwLDAsMCwwCjQwMzExLDQwMzcuMCw0MDUwLjAsMSwxLDAsRkZGRkZSLEZGRkZGUiwwLDAsMCwwLDAsMCwwLDAKNDAzMTIsNDAzOC4wLDQwNTEuMCwxLDEsMCxGRkZGRlIsRkZGRkZSLDAsMCwwLDAsMCwwLDAsMAo0MDMxMyw0MDM5LjAsNDA1Mi4wLDEsMSwwLEZGRkZGUixGRkZGRlIsMCwwLDAsMCwwLDAsMCwwCjQwNDAxLDQwNDAuMCw0MDUzLjAsMSwxLDAsRkZGRkZSLEZGRkZGUiwwLDAsMCwwLDAsMCwwLDAKNDA0MDIsNDA0MS4wLDQwNTQuMCwxLDEsMCxGRkZGRlIsRkZGRkZSLDAsMCwwLDAsMCwwLDAsMAo0MDQwMyw0MDQyLjAsNDA1NS4wLDEsMSwwLEZGRkZGUixGRkZGRlIsMCwwLDAsMCwwLDAsMCwwCjQwNDA0LDQwNDMuMCw0MDU2LjAsMSwxLDAsRkZGRkZSLEZGRkZGUiwwLDAsMCwwLDAsMCwwLDAKNDA0MDUsNDA0NC4wLDQwNTcuMCwxLDEsMCxGRkZGRlIsRkZGRkZSLDAsMCwwLDAsMCwwLDAsMAo0MDQwNiw0MDQ1LjAsNDA1OC4wLDEsMSwwLEZGRkZGUixGRkZGRlIsMCwwLDAsMCwwLDAsMCwwCjQwNDA3LDQwNDYuMCw0MDU5LjAsMSwxLDAsRkZGRkZSLEZGRkZGUiwwLDAsMCwwLDAsMCwwLDAKNDA0MDgsNDA0Ny4wLDQwNjAuMCwxLDEsMCxGRkZGRlIsRkZGRkZSLDAsMCwwLDAsMCwwLDAsMAo0MDQwOSw0MDQ4LjAsNDA2MS4wLDEsMSwwLEZGRkZGUixGRkZGRlIsMCwwLDAsMCwwLDAsMCwwCjQwNDEwLDQwNDkuMCw0MDYyLjAsMSwxLDAsRkZGRkZSLEZGRkZGUiwwLDAsMCwwLDAsMCwwLDAKNDA0MTEsNDA1MC4wLDQwNjMuMCwxLDEsMCxGRkZGRlIsRkZGRkZSLDAsMCwwLDAsMCwwLDAsMAo0MDQxMiw0MDUxLjAsNDA2NC4wLDEsMSwwLEZGRkZGUixGRkZGRlIsMCwwLDAsMCwwLDAsMCwwCjQwNDEzLDQwNTIuMCw0MDY1LjAsMSwxLDAsRkZGRkZSLEZGRkZGUiwwLDAsMCwwLDAsMCwwLDAK\" target=\"_blank\">Download CSV file</a>"
      ],
      "text/plain": [
       "<IPython.core.display.HTML object>"
      ]
     },
     "execution_count": 45,
     "metadata": {},
     "output_type": "execute_result"
    }
   ],
   "source": [
    "# create an HTML link to download your generated geometries\n",
    "\n",
    "def create_download_link( df_beams, title = \"Download CSV file\", filename = \"data.csv\"):  \n",
    "    csv = df_beams.to_csv()\n",
    "    b64 = base64.b64encode(csv.encode())\n",
    "    payload = b64.decode()\n",
    "    html = '<a download=\"{filename}\" href=\"data:text/csv;base64,{payload}\" target=\"_blank\">{title}</a>'\n",
    "    html = html.format(payload=payload,title=title,filename=filename)\n",
    "    return HTML(html)\n",
    "\n",
    "create_download_link(df_beams)"
   ]
  },
  {
   "cell_type": "code",
   "execution_count": 46,
   "metadata": {},
   "outputs": [],
   "source": [
    "# convert dictionary to data frame in pandas\n",
    "df_columns=pd.DataFrame.from_dict(COLUMNS, orient='index')"
   ]
  },
  {
   "cell_type": "code",
   "execution_count": 47,
   "metadata": {},
   "outputs": [
    {
     "data": {
      "text/html": [
       "<a download=\"data.csv\" href=\"data:text/csv;base64,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\" target=\"_blank\">Download CSV file</a>"
      ],
      "text/plain": [
       "<IPython.core.display.HTML object>"
      ]
     },
     "execution_count": 47,
     "metadata": {},
     "output_type": "execute_result"
    }
   ],
   "source": [
    "# create an HTML link to download your generated geometries\n",
    "\n",
    "def create_download_link( df_columns, title = \"Download CSV file\", filename = \"data.csv\"):  \n",
    "    csv = df_columns.to_csv()\n",
    "    b64 = base64.b64encode(csv.encode())\n",
    "    payload = b64.decode()\n",
    "    html = '<a download=\"{filename}\" href=\"data:text/csv;base64,{payload}\" target=\"_blank\">{title}</a>'\n",
    "    html = html.format(payload=payload,title=title,filename=filename)\n",
    "    return HTML(html)\n",
    "\n",
    "create_download_link(df_columns)"
   ]
  },
  {
   "cell_type": "code",
   "execution_count": null,
   "metadata": {},
   "outputs": [],
   "source": []
  }
 ],
 "metadata": {
  "kernelspec": {
   "display_name": "Python 3",
   "language": "python",
   "name": "python3"
  },
  "language_info": {
   "codemirror_mode": {
    "name": "ipython",
    "version": 3
   },
   "file_extension": ".py",
   "mimetype": "text/x-python",
   "name": "python",
   "nbconvert_exporter": "python",
   "pygments_lexer": "ipython3",
   "version": "3.7.1"
  },
  "toc": {
   "base_numbering": 1,
   "nav_menu": {},
   "number_sections": true,
   "sideBar": true,
   "skip_h1_title": false,
   "title_cell": "Table of Contents",
   "title_sidebar": "Contents",
   "toc_cell": false,
   "toc_position": {},
   "toc_section_display": true,
   "toc_window_display": false
  },
  "varInspector": {
   "cols": {
    "lenName": 16,
    "lenType": 16,
    "lenVar": 40
   },
   "kernels_config": {
    "python": {
     "delete_cmd_postfix": "",
     "delete_cmd_prefix": "del ",
     "library": "var_list.py",
     "varRefreshCmd": "print(var_dic_list())"
    },
    "r": {
     "delete_cmd_postfix": ") ",
     "delete_cmd_prefix": "rm(",
     "library": "var_list.r",
     "varRefreshCmd": "cat(var_dic_list()) "
    }
   },
   "types_to_exclude": [
    "module",
    "function",
    "builtin_function_or_method",
    "instance",
    "_Feature"
   ],
   "window_display": false
  }
 },
 "nbformat": 4,
 "nbformat_minor": 2
}
