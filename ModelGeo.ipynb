{
 "cells": [
  {
   "cell_type": "markdown",
   "metadata": {},
   "source": [
    "# Model Geometry Construction using Python \n",
    "\n",
    "As part of CE 5304 - Advanced Design of Structural Systems - at The University of Texas at El Paso, I have encouraged my students to think about constructing structural model geometry programmatically. The purpose of this Notebook is to help support that initiative with an interactive example.  \n",
    "\n",
    "## Model Construction Considerations and Commonalities \n",
    "\n",
    "Every structural model is built on several key aspects, which are software agnostic. These include:\n",
    "+ Geometry\n",
    "+ Material Properties\n",
    "+ Section Properties\n",
    "+ Connectivity\n",
    "+ Boundary Conditions\n",
    "+ Loads\n",
    "\n",
    "While this list is not exhaustive, these core components are critical to every model build, and are generally the drivers behind modeling errors. Currently we are just looking at the top three. \n",
    "\n",
    "## Why build geometry programmatically?\n",
    "\n",
    "There are numerous reasons to automate as much of your model construction as possible. They include:\n",
    "+ It is faster\n",
    "+ You are far less likely to make errors\n",
    "+ It is much easier to make changes\n",
    "+ It creates a logical backbone to your model construction that can be leveraged throughout the process\n",
    "\n",
    "Before we start we need to initialize a few packages that we will use. "
   ]
  },
  {
   "cell_type": "code",
   "execution_count": 4,
   "metadata": {},
   "outputs": [],
   "source": [
    "# Add in imports as required\n",
    "import math\n",
    "import pprint\n",
    "pp = pprint.PrettyPrinter(indent=4)\n",
    "import csv\n",
    "import html\n",
    "\n",
    "from IPython.display import HTML\n",
    "\n",
    "import base64  \n",
    "import pandas as pd  "
   ]
  },
  {
   "cell_type": "markdown",
   "metadata": {},
   "source": [
    "## Our Example Building \n",
    "\n",
    "Consider the following building specifications:\n",
    "+ Three stories with a story height of 18 feet\n",
    "+ Outer dimensions of 120' by 120' \n",
    "+ Bay size of 30' by 30' \n",
    "+ Two intermediate beams running transverse in each bay, spaced at 10'"
   ]
  },
  {
   "cell_type": "markdown",
   "metadata": {},
   "source": [
    "### Explore the building dimensions\n",
    "\n",
    "We need to make sure we understand the layout and dimensions of the proposed building. Let's define the given values above. Note that we are ignoring many, many components of the building that may complicate this process. "
   ]
  },
  {
   "cell_type": "code",
   "execution_count": 5,
   "metadata": {},
   "outputs": [],
   "source": [
    "# Input Variables\n",
    "storyHeight=18 #feet\n",
    "numStories=4 #this equates to four levels of nodes but three floors - G/1/2/Roof\n",
    "bldgHeight=storyHeight*(numStories-1) #building height includes three 18' stories\n",
    "x_length=120 #feet\n",
    "y_length=120 #feet\n",
    "baySizeX=30 #feet\n",
    "baySizeY=30 #feet\n",
    "beamSpacingX=30 #feet\n",
    "beamSpacingY=10 #feet"
   ]
  },
  {
   "cell_type": "markdown",
   "metadata": {},
   "source": [
    "### Generating our geometry\n",
    "My goal with this next section is create a flexible geometry generation approach that can be used for other building structures. In other words, the process is repeatable and reliable, and it is not a one-off effort that would have to be repeated for different rectangular structures. \n",
    "\n",
    "#### Nodal Geometry\n",
    "The nodal geometry will be generated first. We will use three nested for loops. \n",
    "+ Variable i corresponds to the number of stories in the building. \n",
    "+ Variable j corresponds to the number of beams in the X-direction.\n",
    "+ Variable k corresponds to the number of beams in the Y-direction.\n",
    "\n",
    "Note that as of now, we are not making use of the \"baySize\" variables. They will be used for columns generation.\n",
    "\n",
    "Node numbers are assigned in groups of 1000, meaning that floor 0 will have numbers in the 1000-1999 range, and floor 1 will have numbers in the 2000-2999 range and so on. We are generating nodes on the base floor that will not have members associated with them. These can be ignored or manually removed later. Also note that we are numbering non-consecutively, meaning that if a software requires consecutive numbering, it may have to be redone later, or a different approach should be adopted. "
   ]
  },
  {
   "cell_type": "code",
   "execution_count": 6,
   "metadata": {},
   "outputs": [],
   "source": [
    "# Generate the nodes \n",
    "NODES={}\n",
    "for i in range(1,math.ceil(numStories+1)):\n",
    "    for j in range(1,math.ceil(x_length/beamSpacingX)+2):\n",
    "        for k in range(1,math.ceil(y_length/beamSpacingY)+2):\n",
    "            n=(1000*i)+(j-1)*(y_length/beamSpacingY+1)+k\n",
    "            x=(j-1)*beamSpacingX\n",
    "            y=(k-1)*beamSpacingY\n",
    "            z=(i-1)*storyHeight\n",
    "            NODES[n]=[x,y,z]\n",
    "        \n"
   ]
  },
  {
   "cell_type": "markdown",
   "metadata": {},
   "source": [
    "#### Reviewing results\n",
    "The following command will allow you to view your nodal results if interested. If not, leave it commented. "
   ]
  },
  {
   "cell_type": "code",
   "execution_count": 7,
   "metadata": {},
   "outputs": [],
   "source": [
    "# print the Nodes generated to take a look at them \n",
    "#pp.pprint(NODES)"
   ]
  },
  {
   "cell_type": "markdown",
   "metadata": {},
   "source": [
    "### Beam Element Designation\n",
    "The Following will generate the beam element input. It is approached in two sets of nested for loops. The first will generate the beams that move in the y-direction. The second will generate the beams in the x-direction.\n",
    "\n",
    "Important Note: This code assumes that beams within bays are in the x-direction. If this is not the case, then adjustments should be made. \n",
    "\n",
    "The format for the data being written into the BEAMS dictionary follows the requirements for SkyCiv and would have to be modified for different software. \n",
    "\n",
    "Again, non-consecutive element numbering is used. "
   ]
  },
  {
   "cell_type": "code",
   "execution_count": 8,
   "metadata": {},
   "outputs": [],
   "source": [
    "# generate the beam elements \n",
    "BEAMS={}\n",
    "for i in range(1,math.ceil(numStories)):\n",
    "    for j in range(1,math.ceil(x_length/beamSpacingX)+2): \n",
    "        for k in range(1,math.ceil(y_length/beamSpacingY)+1): \n",
    "            mID=(10000*(i+1))+(1000*j)+k\n",
    "            nodeA=(1000*(i+1))+k+(j-1)*(y_length/beamSpacingY+1)\n",
    "            nodeB=nodeA+1\n",
    "            typ=1\n",
    "            sectID=1\n",
    "            rot=0\n",
    "            fixA='FFFFFR'\n",
    "            fixB='FFFFFR'\n",
    "            offAX=0\n",
    "            offAY=0\n",
    "            offAZ=0\n",
    "            offBX=0\n",
    "            offBY=0\n",
    "            offBZ=0\n",
    "            cbl=0\n",
    "            tc=0\n",
    "            BEAMS[mID]=[nodeA,nodeB,typ,sectID,rot,fixA,fixB,offAX,offAY,offAZ,offBX,offBY,offBZ,cbl,tc]\n",
    "            \n",
    "for i in range(1,math.ceil(numStories)):\n",
    "    for j in range(1,math.ceil(x_length/beamSpacingX)+1): \n",
    "        for k in range(1,math.ceil(y_length/beamSpacingY)+2): \n",
    "            mID=(10000*(i+1))+(100*j)+k\n",
    "            nodeA=(1000*(i+1))+k+(j-1)*(y_length/beamSpacingY+1)\n",
    "            nodeB=nodeA+(y_length/beamSpacingY+1)\n",
    "            typ=1\n",
    "            sectID=1\n",
    "            rot=0\n",
    "            fixA='FFFFFR'\n",
    "            fixB='FFFFFR'\n",
    "            offAX=0\n",
    "            offAY=0\n",
    "            offAZ=0\n",
    "            offBX=0\n",
    "            offBY=0\n",
    "            offBZ=0\n",
    "            cbl=0\n",
    "            tc=0\n",
    "            BEAMS[mID]=[nodeA,nodeB,typ,sectID,rot,fixA,fixB,offAX,offAY,offAZ,offBX,offBY,offBZ,cbl,tc]           "
   ]
  },
  {
   "cell_type": "markdown",
   "metadata": {},
   "source": [
    "#### Reviewing results\n",
    "The following command will allow you to view your beam results if interested. If not, leave it commented. "
   ]
  },
  {
   "cell_type": "code",
   "execution_count": 9,
   "metadata": {},
   "outputs": [],
   "source": [
    "#pp.pprint(BEAMS)"
   ]
  },
  {
   "cell_type": "markdown",
   "metadata": {},
   "source": [
    "### Column Element Designation\n",
    "The Following will generate the column element input. It is approached in a set of nested for loops. It makes use of the baySize variables to ensure that columns are created only at the corner of bays. \n",
    "\n",
    "The format for the data being written into the columns dictionary follows the requirements for SkyCiv and would have to be modified for different software. \n",
    "\n",
    "Again, non-consecutive element numbering is used. "
   ]
  },
  {
   "cell_type": "code",
   "execution_count": 10,
   "metadata": {},
   "outputs": [],
   "source": [
    "# generate the column elements \n",
    "COLUMNS={}\n",
    "for i in range(1,math.ceil(numStories)):\n",
    "    for j in range(1,math.ceil(x_length/baySizeX)+2): \n",
    "        for k in range(1,math.ceil(y_length/baySizeY)+2): \n",
    "            mID=(100000*(i))+(1000*j)+k\n",
    "            nodeA=(1000*i)+(1+(k-1)*(baySizeY/beamSpacingY))+(j-1)*(y_length/beamSpacingY+1)\n",
    "            nodeB=nodeA+1000\n",
    "            typ=1\n",
    "            sectID=1\n",
    "            rot=0\n",
    "            fixA='FFFFFF'\n",
    "            fixB='FFFFFF'\n",
    "            offAX=0\n",
    "            offAY=0\n",
    "            offAZ=0\n",
    "            offBX=0\n",
    "            offBY=0\n",
    "            offBZ=0\n",
    "            cbl=0\n",
    "            tc=0\n",
    "            COLUMNS[mID]=[nodeA,nodeB,typ,sectID,rot,fixA,fixB,offAX,offAY,offAZ,offBX,offBY,offBZ,cbl,tc]"
   ]
  },
  {
   "cell_type": "markdown",
   "metadata": {},
   "source": [
    "#### Reviewing results\n",
    "The following command will allow you to view your column results if interested. If not, leave it commented. "
   ]
  },
  {
   "cell_type": "code",
   "execution_count": 11,
   "metadata": {},
   "outputs": [],
   "source": [
    "#pp.pprint(COLUMNS)"
   ]
  },
  {
   "cell_type": "code",
   "execution_count": 12,
   "metadata": {},
   "outputs": [],
   "source": [
    "with open('nodes.csv', 'w') as f:\n",
    "    for key in NODES.keys():\n",
    "        f.write(\"%s,%s\\n\"%(key,NODES[key]))"
   ]
  },
  {
   "cell_type": "code",
   "execution_count": 24,
   "metadata": {},
   "outputs": [],
   "source": [
    "#df=pd.DataFrame(data = [[1,2],[3,4]], columns=['Col 1', 'Col 2'])\n",
    "df=pd.DataFrame.from_dict(NODES, orient='index')"
   ]
  },
  {
   "cell_type": "code",
   "execution_count": 18,
   "metadata": {},
   "outputs": [
    {
     "data": {
      "text/html": [
       "<div>\n",
       "<style scoped>\n",
       "    .dataframe tbody tr th:only-of-type {\n",
       "        vertical-align: middle;\n",
       "    }\n",
       "\n",
       "    .dataframe tbody tr th {\n",
       "        vertical-align: top;\n",
       "    }\n",
       "\n",
       "    .dataframe thead th {\n",
       "        text-align: right;\n",
       "    }\n",
       "</style>\n",
       "<table border=\"1\" class=\"dataframe\">\n",
       "  <thead>\n",
       "    <tr style=\"text-align: right;\">\n",
       "      <th></th>\n",
       "      <th>Unnamed: 0</th>\n",
       "      <th>0</th>\n",
       "      <th>1</th>\n",
       "      <th>2</th>\n",
       "    </tr>\n",
       "  </thead>\n",
       "  <tbody>\n",
       "    <tr>\n",
       "      <th>0</th>\n",
       "      <td>1001.0</td>\n",
       "      <td>0</td>\n",
       "      <td>0</td>\n",
       "      <td>0</td>\n",
       "    </tr>\n",
       "    <tr>\n",
       "      <th>1</th>\n",
       "      <td>1002.0</td>\n",
       "      <td>0</td>\n",
       "      <td>10</td>\n",
       "      <td>0</td>\n",
       "    </tr>\n",
       "    <tr>\n",
       "      <th>2</th>\n",
       "      <td>1003.0</td>\n",
       "      <td>0</td>\n",
       "      <td>20</td>\n",
       "      <td>0</td>\n",
       "    </tr>\n",
       "    <tr>\n",
       "      <th>3</th>\n",
       "      <td>1004.0</td>\n",
       "      <td>0</td>\n",
       "      <td>30</td>\n",
       "      <td>0</td>\n",
       "    </tr>\n",
       "    <tr>\n",
       "      <th>4</th>\n",
       "      <td>1005.0</td>\n",
       "      <td>0</td>\n",
       "      <td>40</td>\n",
       "      <td>0</td>\n",
       "    </tr>\n",
       "  </tbody>\n",
       "</table>\n",
       "</div>"
      ],
      "text/plain": [
       "   Unnamed: 0  0   1  2\n",
       "0      1001.0  0   0  0\n",
       "1      1002.0  0  10  0\n",
       "2      1003.0  0  20  0\n",
       "3      1004.0  0  30  0\n",
       "4      1005.0  0  40  0"
      ]
     },
     "execution_count": 18,
     "metadata": {},
     "output_type": "execute_result"
    }
   ],
   "source": [
    "#write dataframe to file\n",
    "df.to_csv(\"test1.csv\")  \n",
    "#read it back\n",
    "pd.read_csv(\"test1.csv\").head()"
   ]
  },
  {
   "cell_type": "code",
   "execution_count": 13,
   "metadata": {},
   "outputs": [
    {
     "ename": "NameError",
     "evalue": "name 'nodes' is not defined",
     "output_type": "error",
     "traceback": [
      "\u001b[0;31m---------------------------------------------------------------------------\u001b[0m",
      "\u001b[0;31mNameError\u001b[0m                                 Traceback (most recent call last)",
      "\u001b[0;32m<ipython-input-13-82f09dda3dd4>\u001b[0m in \u001b[0;36m<module>\u001b[0;34m\u001b[0m\n\u001b[1;32m      9\u001b[0m     \u001b[0;32mreturn\u001b[0m \u001b[0mHTML\u001b[0m\u001b[0;34m(\u001b[0m\u001b[0mhtml\u001b[0m\u001b[0;34m)\u001b[0m\u001b[0;34m\u001b[0m\u001b[0;34m\u001b[0m\u001b[0m\n\u001b[1;32m     10\u001b[0m \u001b[0;34m\u001b[0m\u001b[0m\n\u001b[0;32m---> 11\u001b[0;31m \u001b[0mcreate_download_link\u001b[0m\u001b[0;34m(\u001b[0m\u001b[0mnodes\u001b[0m\u001b[0;34m)\u001b[0m\u001b[0;34m\u001b[0m\u001b[0;34m\u001b[0m\u001b[0m\n\u001b[0m",
      "\u001b[0;31mNameError\u001b[0m: name 'nodes' is not defined"
     ]
    }
   ],
   "source": [
    "# create an HTML link to download your generated geometries\n",
    "\n",
    "def create_download_link( nodes, title = \"Download CSV file\", filename = \"data.csv\"):  \n",
    "    #csv = df.to_csv()\n",
    "    b64 = base64.b64encode(nodes.encode())\n",
    "    payload = b64.decode()\n",
    "    html = '<a download=\"{filename}\" href=\"data:text/csv;base64,{payload}\" target=\"_blank\">{title}</a>'\n",
    "    html = html.format(payload=payload,title=title,filename=filename)\n",
    "    return HTML(html)\n",
    "\n",
    "create_download_link(nodes)"
   ]
  },
  {
   "cell_type": "code",
   "execution_count": null,
   "metadata": {},
   "outputs": [],
   "source": []
  }
 ],
 "metadata": {
  "kernelspec": {
   "display_name": "Python 3",
   "language": "python",
   "name": "python3"
  },
  "language_info": {
   "codemirror_mode": {
    "name": "ipython",
    "version": 3
   },
   "file_extension": ".py",
   "mimetype": "text/x-python",
   "name": "python",
   "nbconvert_exporter": "python",
   "pygments_lexer": "ipython3",
   "version": "3.7.1"
  }
 },
 "nbformat": 4,
 "nbformat_minor": 2
}
