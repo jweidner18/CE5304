{
 "cells": [
  {
   "cell_type": "markdown",
   "metadata": {},
   "source": [
    "# Model Geometry Construction using Python \n",
    "\n",
    "As part of CE 5304 - Advanced Design of Structural Systems - at The University of Texas at El Paso, I have encouraged my students to think about constructing structural model geometry programmatically. The purpose of this Notebook is to help support that initiative with an interactive example.  \n",
    "\n",
    "## Model Construction Considerations and Commonalities \n",
    "\n",
    "Every structural model is built on several key aspects, which are software agnostic. These include:\n",
    "+ Geometry\n",
    "+ Material Properties\n",
    "+ Section Properties\n",
    "+ Connectivity\n",
    "+ Boundary Conditions\n",
    "+ Loads\n",
    "\n",
    "While this list is not exhaustive, these core components are critical to every model build, and are generally the drivers behind modeling errors. Currently we are just looking at the top three. \n",
    "\n",
    "## Why build geometry programmatically?\n",
    "\n",
    "There are numerous reasons to automate as much of your model construction as possible. They include:\n",
    "+ It is faster\n",
    "+ You are far less likely to make errors\n",
    "+ It is much easier to make changes\n",
    "+ It creates a logical backbone to your model construction that can be leveraged throughout the process\n",
    "\n",
    "Before we start we need to initialize a few packages that we will use. "
   ]
  },
  {
   "cell_type": "code",
   "execution_count": 1,
   "metadata": {},
   "outputs": [],
   "source": [
    "# Add in imports as required\n",
    "import math\n",
    "import pprint\n",
    "pp = pprint.PrettyPrinter(indent=4)\n",
    "import csv\n",
    "import html\n",
    "\n",
    "from IPython.display import HTML\n",
    "\n",
    "import base64  \n",
    "import pandas as pd  "
   ]
  },
  {
   "cell_type": "markdown",
   "metadata": {},
   "source": [
    "## Our Example Building \n",
    "\n",
    "Consider the following building specifications:\n",
    "+ Three stories with a story height of 18 feet\n",
    "+ Outer dimensions of 120' by 120' \n",
    "+ Bay size of 30' by 30' \n",
    "+ Two intermediate beams running transverse in each bay, spaced at 10'"
   ]
  },
  {
   "cell_type": "markdown",
   "metadata": {},
   "source": [
    "### Explore the building dimensions\n",
    "\n",
    "We need to make sure we understand the layout and dimensions of the proposed building. Let's define the given values above. Note that we are ignoring many, many components of the building that may complicate this process. "
   ]
  },
  {
   "cell_type": "code",
   "execution_count": 2,
   "metadata": {},
   "outputs": [],
   "source": [
    "# Input Variables\n",
    "storyHeight=18 #feet\n",
    "numStories=4 #this equates to four levels of nodes but three floors - G/1/2/Roof\n",
    "bldgHeight=storyHeight*(numStories-1) #building height includes three 18' stories\n",
    "x_length=120 #feet\n",
    "y_length=120 #feet\n",
    "baySizeX=30 #feet\n",
    "baySizeY=30 #feet\n",
    "beamSpacingX=30 #feet\n",
    "beamSpacingY=10 #feet"
   ]
  },
  {
   "cell_type": "markdown",
   "metadata": {},
   "source": [
    "### Generating our geometry\n",
    "My goal with this next section is create a flexible geometry generation approach that can be used for other building structures. In other words, the process is repeatable and reliable, and it is not a one-off effort that would have to be repeated for different rectangular structures. \n",
    "\n",
    "#### Nodal Geometry\n",
    "The nodal geometry will be generated first. We will use three nested for loops. \n",
    "+ Variable i corresponds to the number of stories in the building. \n",
    "+ Variable j corresponds to the number of beams in the X-direction.\n",
    "+ Variable k corresponds to the number of beams in the Y-direction.\n",
    "\n",
    "Note that as of now, we are not making use of the \"baySize\" variables. They will be used for columns generation.\n",
    "\n",
    "Node numbers are assigned in groups of 1000, meaning that floor 0 will have numbers in the 1000-1999 range, and floor 1 will have numbers in the 2000-2999 range and so on. We are generating nodes on the base floor that will not have members associated with them. These can be ignored or manually removed later. Also note that we are numbering non-consecutively, meaning that if a software requires consecutive numbering, it may have to be redone later, or a different approach should be adopted. "
   ]
  },
  {
   "cell_type": "code",
   "execution_count": 3,
   "metadata": {},
   "outputs": [],
   "source": [
    "# Generate the nodes \n",
    "NODES={}\n",
    "for i in range(1,math.ceil(numStories+1)):\n",
    "    for j in range(1,math.ceil(x_length/beamSpacingX)+2):\n",
    "        for k in range(1,math.ceil(y_length/beamSpacingY)+2):\n",
    "            n=(1000*i)+(j-1)*(y_length/beamSpacingY+1)+k\n",
    "            x=(j-1)*beamSpacingX\n",
    "            y=(k-1)*beamSpacingY\n",
    "            z=(i-1)*storyHeight\n",
    "            NODES[n]=[x,y,z]\n",
    "        \n"
   ]
  },
  {
   "cell_type": "markdown",
   "metadata": {},
   "source": [
    "#### Reviewing results\n",
    "The following command will allow you to view your nodal results if interested. If not, leave it commented. "
   ]
  },
  {
   "cell_type": "code",
   "execution_count": 4,
   "metadata": {},
   "outputs": [],
   "source": [
    "# print the Nodes generated to take a look at them \n",
    "#pp.pprint(NODES)"
   ]
  },
  {
   "cell_type": "markdown",
   "metadata": {},
   "source": [
    "### Beam Element Designation\n",
    "The Following will generate the beam element input. It is approached in two sets of nested for loops. The first will generate the beams that move in the y-direction. The second will generate the beams in the x-direction.\n",
    "\n",
    "Important Note: This code assumes that beams within bays are in the x-direction. If this is not the case, then adjustments should be made. \n",
    "\n",
    "The format for the data being written into the BEAMS dictionary follows the requirements for SkyCiv and would have to be modified for different software. \n",
    "\n",
    "Again, non-consecutive element numbering is used. "
   ]
  },
  {
   "cell_type": "code",
   "execution_count": 5,
   "metadata": {},
   "outputs": [],
   "source": [
    "# generate the beam elements \n",
    "BEAMS={}\n",
    "for i in range(1,math.ceil(numStories)):\n",
    "    for j in range(1,math.ceil(x_length/beamSpacingX)+2): \n",
    "        for k in range(1,math.ceil(y_length/beamSpacingY)+1): \n",
    "            mID=(10000*(i+1))+(1000*j)+k\n",
    "            nodeA=(1000*(i+1))+k+(j-1)*(y_length/beamSpacingY+1)\n",
    "            nodeB=nodeA+1\n",
    "            typ=1\n",
    "            sectID=1\n",
    "            rot=0\n",
    "            fixA='FFFFFR'\n",
    "            fixB='FFFFFR'\n",
    "            offAX=0\n",
    "            offAY=0\n",
    "            offAZ=0\n",
    "            offBX=0\n",
    "            offBY=0\n",
    "            offBZ=0\n",
    "            cbl=0\n",
    "            tc=0\n",
    "            BEAMS[mID]=[nodeA,nodeB,typ,sectID,rot,fixA,fixB,offAX,offAY,offAZ,offBX,offBY,offBZ,cbl,tc]\n",
    "            \n",
    "for i in range(1,math.ceil(numStories)):\n",
    "    for j in range(1,math.ceil(x_length/beamSpacingX)+1): \n",
    "        for k in range(1,math.ceil(y_length/beamSpacingY)+2): \n",
    "            mID=(10000*(i+1))+(100*j)+k\n",
    "            nodeA=(1000*(i+1))+k+(j-1)*(y_length/beamSpacingY+1)\n",
    "            nodeB=nodeA+(y_length/beamSpacingY+1)\n",
    "            typ=1\n",
    "            sectID=1\n",
    "            rot=0\n",
    "            fixA='FFFFFR'\n",
    "            fixB='FFFFFR'\n",
    "            offAX=0\n",
    "            offAY=0\n",
    "            offAZ=0\n",
    "            offBX=0\n",
    "            offBY=0\n",
    "            offBZ=0\n",
    "            cbl=0\n",
    "            tc=0\n",
    "            BEAMS[mID]=[nodeA,nodeB,typ,sectID,rot,fixA,fixB,offAX,offAY,offAZ,offBX,offBY,offBZ,cbl,tc]           "
   ]
  },
  {
   "cell_type": "markdown",
   "metadata": {},
   "source": [
    "#### Reviewing results\n",
    "The following command will allow you to view your beam results if interested. If not, leave it commented. "
   ]
  },
  {
   "cell_type": "code",
   "execution_count": 6,
   "metadata": {},
   "outputs": [],
   "source": [
    "#pp.pprint(BEAMS)"
   ]
  },
  {
   "cell_type": "markdown",
   "metadata": {},
   "source": [
    "### Column Element Designation\n",
    "The Following will generate the column element input. It is approached in a set of nested for loops. It makes use of the baySize variables to ensure that columns are created only at the corner of bays. \n",
    "\n",
    "The format for the data being written into the columns dictionary follows the requirements for SkyCiv and would have to be modified for different software. \n",
    "\n",
    "Again, non-consecutive element numbering is used. "
   ]
  },
  {
   "cell_type": "code",
   "execution_count": 7,
   "metadata": {},
   "outputs": [],
   "source": [
    "# generate the column elements \n",
    "COLUMNS={}\n",
    "for i in range(1,math.ceil(numStories)):\n",
    "    for j in range(1,math.ceil(x_length/baySizeX)+2): \n",
    "        for k in range(1,math.ceil(y_length/baySizeY)+2): \n",
    "            mID=(100000*(i))+(1000*j)+k\n",
    "            nodeA=(1000*i)+(1+(k-1)*(baySizeY/beamSpacingY))+(j-1)*(y_length/beamSpacingY+1)\n",
    "            nodeB=nodeA+1000\n",
    "            typ=1\n",
    "            sectID=1\n",
    "            rot=0\n",
    "            fixA='FFFFFF'\n",
    "            fixB='FFFFFF'\n",
    "            offAX=0\n",
    "            offAY=0\n",
    "            offAZ=0\n",
    "            offBX=0\n",
    "            offBY=0\n",
    "            offBZ=0\n",
    "            cbl=0\n",
    "            tc=0\n",
    "            COLUMNS[mID]=[nodeA,nodeB,typ,sectID,rot,fixA,fixB,offAX,offAY,offAZ,offBX,offBY,offBZ,cbl,tc]"
   ]
  },
  {
   "cell_type": "markdown",
   "metadata": {},
   "source": [
    "#### Reviewing results\n",
    "The following command will allow you to view your column results if interested. If not, leave it commented. "
   ]
  },
  {
   "cell_type": "code",
   "execution_count": 8,
   "metadata": {},
   "outputs": [],
   "source": [
    "#pp.pprint(COLUMNS)"
   ]
  },
  {
   "cell_type": "code",
   "execution_count": 9,
   "metadata": {},
   "outputs": [],
   "source": [
    "with open('nodes.csv', 'w') as f:\n",
    "    for key in NODES.keys():\n",
    "        f.write(\"%s,%s\\n\"%(key,NODES[key]))"
   ]
  },
  {
   "cell_type": "code",
   "execution_count": 10,
   "metadata": {},
   "outputs": [],
   "source": [
    "#df=pd.DataFrame(data = [[1,2],[3,4]], columns=['Col 1', 'Col 2'])\n",
    "df=pd.DataFrame.from_dict(NODES, orient='index')"
   ]
  },
  {
   "cell_type": "code",
   "execution_count": 11,
   "metadata": {},
   "outputs": [
    {
     "data": {
      "text/html": [
       "<div>\n",
       "<style scoped>\n",
       "    .dataframe tbody tr th:only-of-type {\n",
       "        vertical-align: middle;\n",
       "    }\n",
       "\n",
       "    .dataframe tbody tr th {\n",
       "        vertical-align: top;\n",
       "    }\n",
       "\n",
       "    .dataframe thead th {\n",
       "        text-align: right;\n",
       "    }\n",
       "</style>\n",
       "<table border=\"1\" class=\"dataframe\">\n",
       "  <thead>\n",
       "    <tr style=\"text-align: right;\">\n",
       "      <th></th>\n",
       "      <th>Unnamed: 0</th>\n",
       "      <th>0</th>\n",
       "      <th>1</th>\n",
       "      <th>2</th>\n",
       "    </tr>\n",
       "  </thead>\n",
       "  <tbody>\n",
       "    <tr>\n",
       "      <th>0</th>\n",
       "      <td>1001.0</td>\n",
       "      <td>0</td>\n",
       "      <td>0</td>\n",
       "      <td>0</td>\n",
       "    </tr>\n",
       "    <tr>\n",
       "      <th>1</th>\n",
       "      <td>1002.0</td>\n",
       "      <td>0</td>\n",
       "      <td>10</td>\n",
       "      <td>0</td>\n",
       "    </tr>\n",
       "    <tr>\n",
       "      <th>2</th>\n",
       "      <td>1003.0</td>\n",
       "      <td>0</td>\n",
       "      <td>20</td>\n",
       "      <td>0</td>\n",
       "    </tr>\n",
       "    <tr>\n",
       "      <th>3</th>\n",
       "      <td>1004.0</td>\n",
       "      <td>0</td>\n",
       "      <td>30</td>\n",
       "      <td>0</td>\n",
       "    </tr>\n",
       "    <tr>\n",
       "      <th>4</th>\n",
       "      <td>1005.0</td>\n",
       "      <td>0</td>\n",
       "      <td>40</td>\n",
       "      <td>0</td>\n",
       "    </tr>\n",
       "  </tbody>\n",
       "</table>\n",
       "</div>"
      ],
      "text/plain": [
       "   Unnamed: 0  0   1  2\n",
       "0      1001.0  0   0  0\n",
       "1      1002.0  0  10  0\n",
       "2      1003.0  0  20  0\n",
       "3      1004.0  0  30  0\n",
       "4      1005.0  0  40  0"
      ]
     },
     "execution_count": 11,
     "metadata": {},
     "output_type": "execute_result"
    }
   ],
   "source": [
    "#write dataframe to file\n",
    "df.to_csv(\"test1.csv\")  \n",
    "#read it back\n",
    "pd.read_csv(\"test1.csv\").head()"
   ]
  },
  {
   "cell_type": "code",
   "execution_count": 27,
   "metadata": {
    "code_folding": []
   },
   "outputs": [
    {
     "data": {
      "text/html": [
       "<a download=\"data.csv\" href=\"data:text/csv;base64,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\" target=\"_blank\">Download CSV file</a>"
      ],
      "text/plain": [
       "<IPython.core.display.HTML object>"
      ]
     },
     "execution_count": 27,
     "metadata": {},
     "output_type": "execute_result"
    }
   ],
   "source": [
    "# create an HTML link to download your generated geometries\n",
    "\n",
    "def create_download_link( nodes, title = \"Download CSV file\", filename = \"data.csv\"):  \n",
    "    csv = df.to_csv()\n",
    "    b64 = base64.b64encode(csv.encode())\n",
    "    payload = b64.decode()\n",
    "    html = '<a download=\"{filename}\" href=\"data:text/csv;base64,{payload}\" target=\"_blank\">{title}</a>'\n",
    "    html = html.format(payload=payload,title=title,filename=filename)\n",
    "    return HTML(html)\n",
    "\n",
    "\n",
    "create_download_link(df)"
   ]
  },
  {
   "cell_type": "code",
   "execution_count": null,
   "metadata": {},
   "outputs": [],
   "source": []
  }
 ],
 "metadata": {
  "kernelspec": {
   "display_name": "Python 3",
   "language": "python",
   "name": "python3"
  },
  "language_info": {
   "codemirror_mode": {
    "name": "ipython",
    "version": 3
   },
   "file_extension": ".py",
   "mimetype": "text/x-python",
   "name": "python",
   "nbconvert_exporter": "python",
   "pygments_lexer": "ipython3",
   "version": "3.7.1"
  },
  "toc": {
   "base_numbering": 1,
   "nav_menu": {},
   "number_sections": true,
   "sideBar": true,
   "skip_h1_title": false,
   "title_cell": "Table of Contents",
   "title_sidebar": "Contents",
   "toc_cell": false,
   "toc_position": {},
   "toc_section_display": true,
   "toc_window_display": false
  },
  "varInspector": {
   "cols": {
    "lenName": 16,
    "lenType": 16,
    "lenVar": 40
   },
   "kernels_config": {
    "python": {
     "delete_cmd_postfix": "",
     "delete_cmd_prefix": "del ",
     "library": "var_list.py",
     "varRefreshCmd": "print(var_dic_list())"
    },
    "r": {
     "delete_cmd_postfix": ") ",
     "delete_cmd_prefix": "rm(",
     "library": "var_list.r",
     "varRefreshCmd": "cat(var_dic_list()) "
    }
   },
   "types_to_exclude": [
    "module",
    "function",
    "builtin_function_or_method",
    "instance",
    "_Feature"
   ],
   "window_display": false
  }
 },
 "nbformat": 4,
 "nbformat_minor": 2
}
